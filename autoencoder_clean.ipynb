{
  "cells": [
    {
      "cell_type": "markdown",
      "metadata": {},
      "source": [
        "# Autoencoder for MIDI\n",
        "\n",
        "run tensorboard with `tensorboard --logdir=runs`"
      ]
    },
    {
      "cell_type": "code",
      "execution_count": 1,
      "metadata": {
        "id": "8Vy0fpWGCdkN"
      },
      "outputs": [],
      "source": [
        "import torch\n",
        "import torch.nn as nn\n",
        "import torch.optim as optim\n",
        "from torch.nn.functional import pad, silu\n",
        "from torch.utils.tensorboard.writer import SummaryWriter\n",
        "from torch.utils.data import Dataset, DataLoader, random_split\n",
        "\n",
        "from torchinfo import summary\n",
        "\n",
        "import random\n",
        "import numpy as np\n",
        "from pathlib import Path\n",
        "from datetime import datetime\n",
        "import matplotlib.pyplot as plt\n",
        "from tqdm.notebook import tqdm, trange"
      ]
    },
    {
      "cell_type": "markdown",
      "metadata": {
        "id": "FYToroarCdkO"
      },
      "source": [
        "## Notebook Setup"
      ]
    },
    {
      "cell_type": "markdown",
      "metadata": {},
      "source": [
        "### Dark Mode"
      ]
    },
    {
      "cell_type": "code",
      "execution_count": 2,
      "metadata": {},
      "outputs": [],
      "source": [
        "plt.style.use(\"dark_background\")"
      ]
    },
    {
      "cell_type": "code",
      "execution_count": 3,
      "metadata": {},
      "outputs": [
        {
          "data": {
            "text/html": [
              "<style>\n",
              ".cell-output-ipywidget-background {\n",
              "    background-color: transparent !important;\n",
              "}\n",
              ":root {\n",
              "    --jp-widgets-color: var(--vscode-editor-foreground);\n",
              "    --jp-widgets-font-size: var(--vscode-editor-font-size);\n",
              "}  \n",
              ".jp-OutputArea-output {\n",
              "   background-color: transparent;\n",
              "}  \n",
              "</style>\n"
            ],
            "text/plain": [
              "<IPython.core.display.HTML object>"
            ]
          },
          "metadata": {},
          "output_type": "display_data"
        }
      ],
      "source": [
        "%%html\n",
        "<style>\n",
        ".cell-output-ipywidget-background {\n",
        "    background-color: transparent !important;\n",
        "}\n",
        ":root {\n",
        "    --jp-widgets-color: var(--vscode-editor-foreground);\n",
        "    --jp-widgets-font-size: var(--vscode-editor-font-size);\n",
        "}  \n",
        ".jp-OutputArea-output {\n",
        "   background-color: transparent;\n",
        "}  \n",
        "</style>"
      ]
    },
    {
      "cell_type": "markdown",
      "metadata": {},
      "source": [
        "### Constants / Parameters"
      ]
    },
    {
      "cell_type": "code",
      "execution_count": 4,
      "metadata": {
        "id": "lG8_8z0NCdkO"
      },
      "outputs": [],
      "source": [
        "# constants\n",
        "NUM_EPOCHS = 10\n",
        "LEARNING_RATE = 0.001\n",
        "BATCH_SIZE = 32\n",
        "NOISE_FACTOR = 0.0"
      ]
    },
    {
      "cell_type": "markdown",
      "metadata": {},
      "source": [
        "Move to GPU if available"
      ]
    },
    {
      "cell_type": "code",
      "execution_count": 5,
      "metadata": {},
      "outputs": [
        {
          "name": "stdout",
          "output_type": "stream",
          "text": [
            "Using device: cuda:0\n"
          ]
        }
      ],
      "source": [
        "device = torch.device(\"cuda:0\" if torch.cuda.is_available() else \"cpu\")\n",
        "print(f\"Using device: {device}\")"
      ]
    },
    {
      "cell_type": "markdown",
      "metadata": {
        "id": "wrceLf4pCdkP"
      },
      "source": [
        "## Load Data"
      ]
    },
    {
      "cell_type": "markdown",
      "metadata": {},
      "source": [
        "### Custom Dataset"
      ]
    },
    {
      "cell_type": "code",
      "execution_count": 6,
      "metadata": {},
      "outputs": [],
      "source": [
        "class MIDILoopDataset(Dataset):\n",
        "    def __init__(\n",
        "        self,\n",
        "        data,\n",
        "        multiplier=1,\n",
        "        transforms=None,\n",
        "    ):\n",
        "        self.data = data * multiplier\n",
        "        self.transforms = transforms\n",
        "\n",
        "    def __len__(self):\n",
        "        return len(self.data)\n",
        "\n",
        "    def __getitem__(self, idx):\n",
        "        name, image = self.data[idx]\n",
        "        image = self.format_image(image)\n",
        "        if self.transforms:\n",
        "            image = self.transforms(image)\n",
        "        return name, image\n",
        "\n",
        "    def format_image(self, image, remove_time=True):\n",
        "        if remove_time:\n",
        "            image = np.delete(image, 0, axis=1)\n",
        "        image = torch.from_numpy(np.expand_dims(image, 0)).to(torch.float32)\n",
        "        if torch.any(image > 1.0):\n",
        "            image = image / image.max()\n",
        "        image = pad(input=image, pad=(0, 12, 1, 1), mode=\"constant\", value=0.0)\n",
        "\n",
        "        return image"
      ]
    },
    {
      "cell_type": "markdown",
      "metadata": {},
      "source": [
        "### Augmentation Functions"
      ]
    },
    {
      "cell_type": "code",
      "execution_count": 7,
      "metadata": {},
      "outputs": [],
      "source": [
        "def shift_image_vertically(name, array, num_iterations):\n",
        "    shifted_images = []\n",
        "\n",
        "    def find_non_zero_bounds(arr):\n",
        "        # Find the first and last row index with a non-zero element\n",
        "        rows_with_non_zero = np.where(arr.any(axis=1))[0]\n",
        "        if len(rows_with_non_zero) == 0:\n",
        "            return (0, arr.shape[0] - 1)  # Handle case with no non-zero elements\n",
        "        return rows_with_non_zero[0], rows_with_non_zero[-1]\n",
        "\n",
        "    def shift_array(arr, up=0, down=0):\n",
        "        # Shift array vertically\n",
        "        if up > 0:\n",
        "            arr = np.roll(arr, -up, axis=0)\n",
        "            arr[-up:] = 0\n",
        "        elif down > 0:\n",
        "            arr = np.roll(arr, down, axis=0)\n",
        "            arr[:down] = 0\n",
        "        return arr\n",
        "\n",
        "    highest, lowest = find_non_zero_bounds(array)\n",
        "    maximum_up = highest\n",
        "    maximum_down = array.shape[0] - lowest - 1\n",
        "\n",
        "    for _ in range(num_iterations):\n",
        "        # Shift up and then down, decreasing the shift amount in each iteration\n",
        "        for i in range(maximum_up, 0, -1):\n",
        "            new_key = f\"{Path(name).stem}_u{i:02d}\"\n",
        "            shifted_images.append((new_key, np.copy(shift_array(array, up=i))))\n",
        "        for i in range(maximum_down, 0, -1):\n",
        "            new_key = f\"{Path(name).stem}_d{i:02d}\"\n",
        "            shifted_images.append((new_key, np.copy(shift_array(array, down=i))))\n",
        "\n",
        "    random.shuffle(shifted_images)\n",
        "\n",
        "    return shifted_images[:num_iterations]"
      ]
    },
    {
      "cell_type": "code",
      "execution_count": 8,
      "metadata": {},
      "outputs": [],
      "source": [
        "# def augment_data(clean_images, num_permutations=NUM_PERMUTATIONS, vshift=True):\n",
        "#     \"\"\"Augments a set of passed-in images by a factor of 2*num_permutations\"\"\"\n",
        "#     shifted_images = []\n",
        "#     noisy_images = []\n",
        "\n",
        "#     for name, image in tqdm(\n",
        "#         list(clean_images.items()), unit=\"images\", dynamic_ncols=True\n",
        "#     ):\n",
        "#         time_factor = image[:, 0]  # save time factor\n",
        "#         image = np.delete(image, 0, axis=1)  # remove it from the image though\n",
        "#         if vshift:\n",
        "#             # vertical shift images\n",
        "#             shifted_images.append(shift_image_vertically(name, image, num_permutations))\n",
        "#         else:\n",
        "#             # reformat clean image array\n",
        "#             shifted_images.append([(name, image)])\n",
        "\n",
        "#         # add noise to images\n",
        "#         for si in shifted_images[-1]:\n",
        "#             new_key, shifted_image = si\n",
        "#             for _ in range(num_permutations):\n",
        "#                 # normalize\n",
        "#                 noisy_image = shifted_image / np.max(shifted_image)\n",
        "\n",
        "#                 # corrupt\n",
        "#                 noisy_image = torch.from_numpy(\n",
        "#                     noisy_image\n",
        "#                 ) + NOISE_FACTOR * torch.randn(noisy_image.shape)\n",
        "\n",
        "#                 # reformat\n",
        "#                 noisy_image = format_image(noisy_image)\n",
        "\n",
        "#                 noisy_images.append((new_key, noisy_image))\n",
        "\n",
        "#     random.shuffle(noisy_images)\n",
        "\n",
        "#     return shifted_images, noisy_images"
      ]
    },
    {
      "cell_type": "markdown",
      "metadata": {},
      "source": [
        "### Build Datasets"
      ]
    },
    {
      "cell_type": "code",
      "execution_count": 9,
      "metadata": {
        "id": "PdV3flzRCdkP",
        "outputId": "5ae222d1-45e7-4637-8323-88e92fa211df"
      },
      "outputs": [],
      "source": [
        "input_dataset = np.load(\"data/all_loops.npz\")\n",
        "inputset = MIDILoopDataset(list(input_dataset.items()))\n",
        "overfitset = MIDILoopDataset([list(input_dataset.items())[0]], multiplier=3200)\n",
        "trainset, testset = random_split(inputset, [0.8, 0.2])\n",
        "\n",
        "trainLoader = DataLoader(trainset, batch_size=BATCH_SIZE, shuffle=True, num_workers=4)\n",
        "testLoader = DataLoader(testset, batch_size=BATCH_SIZE, shuffle=False, num_workers=4)\n",
        "overfitLoader = DataLoader(\n",
        "    overfitset, batch_size=BATCH_SIZE, shuffle=False, num_workers=4\n",
        ")"
      ]
    },
    {
      "cell_type": "code",
      "execution_count": 10,
      "metadata": {
        "id": "o0gSMXQQCdkP",
        "outputId": "3e5f4bed-ba40-468e-c3f9-3a7b02d1a249"
      },
      "outputs": [
        {
          "name": "stdout",
          "output_type": "stream",
          "text": [
            "torch.Size([32, 1, 60, 412])\n"
          ]
        }
      ],
      "source": [
        "for batch in overfitLoader:\n",
        "    batch1 = batch\n",
        "    break\n",
        "\n",
        "print(batch1[1].shape)"
      ]
    },
    {
      "cell_type": "markdown",
      "metadata": {
        "id": "r-DGwKaoCdkP"
      },
      "source": [
        "## Utility Functions"
      ]
    },
    {
      "cell_type": "code",
      "execution_count": 11,
      "metadata": {},
      "outputs": [],
      "source": [
        "def plot_images(images, titles, set_axis=\"off\"):\n",
        "    num_images = len(images)\n",
        "    for num_plot in range(num_images):\n",
        "        plt.subplot(num_images, 1, num_plot + 1)\n",
        "        plt.imshow(\n",
        "            np.squeeze(images[num_plot]),\n",
        "            aspect=\"auto\",\n",
        "            origin=\"lower\",\n",
        "            cmap=\"magma\",\n",
        "            interpolation=\"nearest\",\n",
        "        )\n",
        "        plt.title(titles[num_plot])\n",
        "        plt.axis(set_axis)\n",
        "\n",
        "    plt.show()"
      ]
    },
    {
      "cell_type": "markdown",
      "metadata": {
        "id": "MortiuMyCdkQ"
      },
      "source": [
        "## Autoencoder Setup"
      ]
    },
    {
      "cell_type": "markdown",
      "metadata": {},
      "source": [
        "### Model"
      ]
    },
    {
      "cell_type": "code",
      "execution_count": 12,
      "metadata": {
        "id": "4YIr9710CdkQ"
      },
      "outputs": [],
      "source": [
        "class AutoEncoder(nn.Module):\n",
        "    def __init__(self):\n",
        "        super(AutoEncoder, self).__init__()\n",
        "\n",
        "        # Encoder layers\n",
        "        self.enc1 = nn.Conv2d(1, 64, kernel_size=3, padding=1)\n",
        "        self.enc2 = nn.Conv2d(64, 32, kernel_size=3, padding=1)\n",
        "        self.enc3 = nn.Conv2d(32, 16, kernel_size=3, padding=1)\n",
        "        self.enc4 = nn.Conv2d(16, 8, kernel_size=3, padding=1)\n",
        "        self.pool = nn.MaxPool2d(2, 2)\n",
        "\n",
        "        # Decoder layers\n",
        "        self.dec1 = nn.ConvTranspose2d(8, 8, kernel_size=3, stride=2)\n",
        "        self.dec2 = nn.ConvTranspose2d(8, 16, kernel_size=3, stride=2)\n",
        "        self.dec3 = nn.ConvTranspose2d(16, 32, kernel_size=2, stride=2)\n",
        "        self.dec4 = nn.ConvTranspose2d(32, 64, kernel_size=2, stride=2)\n",
        "        self.out = nn.Conv2d(64, 1, kernel_size=3, padding=1)\n",
        "\n",
        "    def forward(self, x):\n",
        "        # Encoder\n",
        "        x = self.pool(silu(self.enc1(x)))\n",
        "        x = self.pool(silu(self.enc2(x)))\n",
        "        x = self.pool(silu(self.enc3(x)))\n",
        "        x = self.pool(silu(self.enc4(x)))\n",
        "\n",
        "        # Decoder\n",
        "        x = silu(self.dec1(x))\n",
        "        x = silu(self.dec2(x))\n",
        "        x = silu(self.dec3(x))\n",
        "        x = silu(self.dec4(x))\n",
        "        # x = torch.sigmoid(self.out(x))\n",
        "        x = silu(self.out(x))\n",
        "\n",
        "        return x\n",
        "\n",
        "\n",
        "model = AutoEncoder().to(device)"
      ]
    },
    {
      "cell_type": "code",
      "execution_count": 13,
      "metadata": {
        "id": "G-VyVsviCdkQ",
        "outputId": "61fc1dd3-ed3c-4e08-8a82-4c4c59086893"
      },
      "outputs": [
        {
          "name": "stdout",
          "output_type": "stream",
          "text": [
            "AutoEncoder(\n",
            "  (enc1): Conv2d(1, 64, kernel_size=(3, 3), stride=(1, 1), padding=(1, 1))\n",
            "  (enc2): Conv2d(64, 32, kernel_size=(3, 3), stride=(1, 1), padding=(1, 1))\n",
            "  (enc3): Conv2d(32, 16, kernel_size=(3, 3), stride=(1, 1), padding=(1, 1))\n",
            "  (enc4): Conv2d(16, 8, kernel_size=(3, 3), stride=(1, 1), padding=(1, 1))\n",
            "  (pool): MaxPool2d(kernel_size=2, stride=2, padding=0, dilation=1, ceil_mode=False)\n",
            "  (dec1): ConvTranspose2d(8, 8, kernel_size=(3, 3), stride=(2, 2))\n",
            "  (dec2): ConvTranspose2d(8, 16, kernel_size=(3, 3), stride=(2, 2))\n",
            "  (dec3): ConvTranspose2d(16, 32, kernel_size=(2, 2), stride=(2, 2))\n",
            "  (dec4): ConvTranspose2d(32, 64, kernel_size=(2, 2), stride=(2, 2))\n",
            "  (out): Conv2d(64, 1, kernel_size=(3, 3), stride=(1, 1), padding=(1, 1))\n",
            ")\n"
          ]
        }
      ],
      "source": [
        "print(model)"
      ]
    },
    {
      "cell_type": "code",
      "execution_count": 14,
      "metadata": {
        "id": "IvOzwomQCdkQ",
        "outputId": "a6161fc7-c90a-471e-af9f-1d8abbb7140e"
      },
      "outputs": [
        {
          "name": "stdout",
          "output_type": "stream",
          "text": [
            "==========================================================================================\n",
            "Layer (type:depth-idx)                   Output Shape              Param #\n",
            "==========================================================================================\n",
            "AutoEncoder                              [1, 60, 412]              --\n",
            "├─Conv2d: 1-1                            [64, 58, 400]             640\n",
            "├─MaxPool2d: 1-2                         [64, 29, 200]             --\n",
            "├─Conv2d: 1-3                            [32, 29, 200]             18,464\n",
            "├─MaxPool2d: 1-4                         [32, 14, 100]             --\n",
            "├─Conv2d: 1-5                            [16, 14, 100]             4,624\n",
            "├─MaxPool2d: 1-6                         [16, 7, 50]               --\n",
            "├─Conv2d: 1-7                            [8, 7, 50]                1,160\n",
            "├─MaxPool2d: 1-8                         [8, 3, 25]                --\n",
            "├─ConvTranspose2d: 1-9                   [8, 7, 51]                584\n",
            "├─ConvTranspose2d: 1-10                  [16, 15, 103]             1,168\n",
            "├─ConvTranspose2d: 1-11                  [32, 30, 206]             2,080\n",
            "├─ConvTranspose2d: 1-12                  [64, 60, 412]             8,256\n",
            "├─Conv2d: 1-13                           [1, 60, 412]              577\n",
            "==========================================================================================\n",
            "Total params: 37,553\n",
            "Trainable params: 37,553\n",
            "Non-trainable params: 0\n",
            "Total mult-adds (M): 376.22\n",
            "==========================================================================================\n",
            "Input size (MB): 0.09\n",
            "Forward/backward pass size (MB): 28.22\n",
            "Params size (MB): 0.15\n",
            "Estimated Total Size (MB): 28.46\n",
            "==========================================================================================\n"
          ]
        }
      ],
      "source": [
        "print(summary(model, (1, 58, 400)))"
      ]
    },
    {
      "cell_type": "markdown",
      "metadata": {
        "id": "tRQTk3_5CdkQ"
      },
      "source": [
        "### Optimizer and Loss Functions"
      ]
    },
    {
      "cell_type": "code",
      "execution_count": 15,
      "metadata": {
        "id": "exxJH1mjCdkQ"
      },
      "outputs": [],
      "source": [
        "loss_fn = nn.MSELoss()\n",
        "optimizer = optim.Adam(model.parameters(), lr=LEARNING_RATE)"
      ]
    },
    {
      "cell_type": "markdown",
      "metadata": {
        "id": "OlsR72mdCdkQ"
      },
      "source": [
        "## Train and Test Functions"
      ]
    },
    {
      "cell_type": "code",
      "execution_count": 16,
      "metadata": {
        "id": "VJyVyz-TCdkQ"
      },
      "outputs": [],
      "source": [
        "def train(net, trainLoader, num_epochs=NUM_EPOCHS, logging=True):\n",
        "    train_loss = []\n",
        "    if logging:\n",
        "        writer = SummaryWriter(\n",
        "            f\"runs/{datetime.now().strftime('%y-%m-%d_%H%M%S')}_reset\"\n",
        "        )\n",
        "    for epoch in trange(num_epochs):\n",
        "        running_loss = 0.0\n",
        "        with tqdm(trainLoader, unit=\"batch\") as tepoch:\n",
        "            for i, data in enumerate(tepoch):\n",
        "                tepoch.set_description(f\"Epoch {epoch+1:02d}\")\n",
        "                name, img = data\n",
        "                # add noise to the image data\n",
        "                img_noisy = img + NOISE_FACTOR * torch.randn(img.shape)\n",
        "                # clip to make the values fall between 0 and 1\n",
        "                img_noisy = np.clip(img_noisy, 0.0, 1.0)\n",
        "                img_noisy = img_noisy.to(device)\n",
        "                optimizer.zero_grad()\n",
        "                outputs = net(img_noisy)\n",
        "\n",
        "                loss = loss_fn(outputs, img_noisy)\n",
        "                # backpropagation\n",
        "                loss.backward()\n",
        "                # update the parameters\n",
        "                optimizer.step()\n",
        "                running_loss += loss.item()\n",
        "                tepoch.set_postfix(loss=f\"{loss.item():03f}\")\n",
        "\n",
        "                if logging:\n",
        "                    global_step = epoch * len(trainLoader) + i\n",
        "                    writer.add_scalar(\"training/loss\", loss.item(), global_step)\n",
        "                    for p_name, param in model.named_parameters():\n",
        "                        writer.add_histogram(\n",
        "                            f\"weights/{p_name}\", param.data, global_step\n",
        "                        )\n",
        "                        if param.requires_grad:\n",
        "                            writer.add_histogram(\n",
        "                                f\"gradients/{p_name}.grad\", param.grad, global_step\n",
        "                            )\n",
        "\n",
        "            loss = running_loss / len(trainLoader)\n",
        "            train_loss.append(loss)\n",
        "\n",
        "    return train_loss"
      ]
    },
    {
      "cell_type": "code",
      "execution_count": 17,
      "metadata": {},
      "outputs": [],
      "source": [
        "def test_image_reconstruction(net, loader, loss):\n",
        "    for batch in loader:\n",
        "        name, img = batch\n",
        "\n",
        "        img_noisy = img + NOISE_FACTOR * torch.randn(img.shape)\n",
        "        img_noisy = np.clip(img_noisy, 0.0, 1.0)\n",
        "        img_noisy = img_noisy.to(device)\n",
        "\n",
        "        outputs = net(img_noisy)\n",
        "\n",
        "        images = [\n",
        "            inputset.format_image(input_dataset[name[0]]),\n",
        "            img_noisy[0].cpu().data,\n",
        "            outputs[0].cpu().data,\n",
        "        ]\n",
        "        titles = [\n",
        "            f\"{name[0]} (epochs={NUM_EPOCHS})\",\n",
        "            f\"noisy ({NOISE_FACTOR}% noise)\",\n",
        "            f\"reconstructed (loss={loss[-1]:.03f})\",\n",
        "        ]\n",
        "\n",
        "        plot_images(images, titles)\n",
        "        break"
      ]
    },
    {
      "cell_type": "markdown",
      "metadata": {
        "id": "7ZvEwqXFCdkQ"
      },
      "source": [
        "## Model Training"
      ]
    },
    {
      "cell_type": "code",
      "execution_count": 18,
      "metadata": {
        "id": "P49uZSvPCdkR",
        "outputId": "0ddf5435-7ecb-4e78-c7ad-394921a4d9d8"
      },
      "outputs": [
        {
          "data": {
            "application/vnd.jupyter.widget-view+json": {
              "model_id": "2756dd00fc934999bbed5c83d6a74bb0",
              "version_major": 2,
              "version_minor": 0
            },
            "text/plain": [
              "  0%|          | 0/10 [00:00<?, ?it/s]"
            ]
          },
          "metadata": {},
          "output_type": "display_data"
        },
        {
          "data": {
            "application/vnd.jupyter.widget-view+json": {
              "model_id": "3c6c530908a14f65b3fe5a022c052d0b",
              "version_major": 2,
              "version_minor": 0
            },
            "text/plain": [
              "  0%|          | 0/100 [00:00<?, ?batch/s]"
            ]
          },
          "metadata": {},
          "output_type": "display_data"
        }
      ],
      "source": [
        "# train_loss = train(model, trainLoader, NUM_EPOCHS)\n",
        "train_loss = train(model, overfitLoader, NUM_EPOCHS)"
      ]
    },
    {
      "cell_type": "code",
      "execution_count": null,
      "metadata": {},
      "outputs": [
        {
          "data": {
            "image/png": "[encoded data removed]",
            "text/plain": [
              "<Figure size 640x480 with 3 Axes>"
            ]
          },
          "metadata": {},
          "output_type": "display_data"
        }
      ],
      "source": [
        "test_image_reconstruction(model, overfitLoader, train_loss)"
      ]
    },
    {
      "cell_type": "markdown",
      "metadata": {
        "id": "8uxw5h44CdkR"
      },
      "source": [
        "###"
      ]
    }
  ],
  "metadata": {
    "colab": {
      "provenance": []
    },
    "interpreter": {
      "hash": "884a8f81666a19c0851426c83cd6eaa7b212468ad852fb3caa21591c98d4369f"
    },
    "kernelspec": {
      "display_name": "Python 3.8.0 64-bit ('pytorch19': conda)",
      "name": "python3"
    },
    "language_info": {
      "codemirror_mode": {
        "name": "ipython",
        "version": 3
      },
      "file_extension": ".py",
      "mimetype": "text/x-python",
      "name": "python",
      "nbconvert_exporter": "python",
      "pygments_lexer": "ipython3",
      "version": "3.10.13"
    },
    "orig_nbformat": 4
  },
  "nbformat": 4,
  "nbformat_minor": 0
}
