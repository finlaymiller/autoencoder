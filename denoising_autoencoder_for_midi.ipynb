{
 "cells": [
  {
   "cell_type": "markdown",
   "metadata": {},
   "source": [
    "# DENOISING AUTOENCODER FOR MIDI"
   ]
  },
  {
   "cell_type": "markdown",
   "metadata": {},
   "source": [
    "### **0. TODOs**\n",
    "\n",
    "1. ~~Fix random dropped samples during shifting~~\n",
    "  (solution: can't v-shift enough times if the parent sample occupies too much of the available v-space)\n",
    "2. ~~Fix `tqdm` stuff~~\n",
    "3. ~~change generated/saved temp images to be NP arrays instead of .PNGs, that's stupid~~\n",
    "4. ~~get overfitting working~~\n",
    "5. ~~clean up review pipeline~~\n",
    "6. update load libraries section below\n",
    "7. clean up shift -> noising double double-for loops, unnecessary\n",
    "8. add variable velocity scaling to augmentation step"
   ]
  },
  {
   "cell_type": "markdown",
   "metadata": {
    "id": "EnjYUqvzBeSz"
   },
   "source": [
    "### **1. Load Libraries**\n",
    "\n",
    "The imported modules include:\n",
    "\n",
    "* `torchvision`: contains many popular computer vision datasets, deep neural network architectures, and image processing modules. We will use this to download the CIFAR10 dataset.\n",
    "* `torch.nn`: contains the deep learning neural network layers such as `Linear()`, and `Conv2d()`.\n",
    "* `transforms`: will help in defining the image transforms and normalizations.\n",
    "* `optim`: contains the deep learning optimizer classes such as `MSELoss()` and many others as well.\n",
    "* `functional`: we will use this for activation functions such as ReLU.\n",
    "* `DataLoader`: eases the task of making iterable training and testing sets."
   ]
  },
  {
   "cell_type": "code",
   "execution_count": 15,
   "metadata": {
    "id": "pCnwb04BBeSz"
   },
   "outputs": [],
   "source": [
    "# torch\n",
    "import torch\n",
    "import torch.nn as nn\n",
    "import torch.optim as optim\n",
    "import torch.nn.functional as F\n",
    "\n",
    "# torchvision\n",
    "from torchinfo import summary\n",
    "from torchvision.utils import save_image\n",
    "\n",
    "# other\n",
    "import os\n",
    "import time\n",
    "import random\n",
    "import numpy as np\n",
    "from pathlib import Path\n",
    "import matplotlib.pyplot as plt\n",
    "from tqdm.notebook import trange, tqdm"
   ]
  },
  {
   "cell_type": "markdown",
   "metadata": {},
   "source": [
    "#### Dark theme"
   ]
  },
  {
   "cell_type": "code",
   "execution_count": 16,
   "metadata": {},
   "outputs": [],
   "source": [
    "plt.style.use(\"dark_background\")"
   ]
  },
  {
   "cell_type": "code",
   "execution_count": 17,
   "metadata": {},
   "outputs": [
    {
     "data": {
      "text/html": [
       "<style>\n",
       ".cell-output-ipywidget-background {\n",
       "    background-color: transparent !important;\n",
       "}\n",
       ":root {\n",
       "    --jp-widgets-color: var(--vscode-editor-foreground);\n",
       "    --jp-widgets-font-size: var(--vscode-editor-font-size);\n",
       "}  \n",
       "</style>\n"
      ],
      "text/plain": [
       "<IPython.core.display.HTML object>"
      ]
     },
     "metadata": {},
     "output_type": "display_data"
    }
   ],
   "source": [
    "%%html\n",
    "<style>\n",
    ".cell-output-ipywidget-background {\n",
    "    background-color: transparent !important;\n",
    "}\n",
    ":root {\n",
    "    --jp-widgets-color: var(--vscode-editor-foreground);\n",
    "    --jp-widgets-font-size: var(--vscode-editor-font-size);\n",
    "}  \n",
    "</style>"
   ]
  },
  {
   "cell_type": "markdown",
   "metadata": {},
   "source": [
    "%%html\n",
    "<style>\n",
    ".cell-output-ipywidget-background {\n",
    "    background-color: transparent !important;\n",
    "}\n",
    ":root {\n",
    "    --jp-widgets-color: var(--vscode-editor-foreground);\n",
    "    --jp-widgets-font-size: var(--vscode-editor-font-size);\n",
    "}  \n",
    "</style>"
   ]
  },
  {
   "cell_type": "markdown",
   "metadata": {
    "id": "PUu40u7OBeS0"
   },
   "source": [
    "### **2. Define Constants**"
   ]
  },
  {
   "cell_type": "code",
   "execution_count": 18,
   "metadata": {
    "id": "0kqgrIS7BeS0"
   },
   "outputs": [
    {
     "name": "stdout",
     "output_type": "stream",
     "text": [
      "Using device: cuda:0\n"
     ]
    }
   ],
   "source": [
    "# constants\n",
    "NUM_EPOCHS = 10\n",
    "LEARNING_RATE = 0.001\n",
    "BATCH_SIZE = 32\n",
    "NOISE_FACTOR = 0.01\n",
    "NUM_PERMUTATIONS = 3\n",
    "\n",
    "device = torch.device(\"cuda:0\" if torch.cuda.is_available() else \"cpu\")\n",
    "print(f\"Using device: {device}\")"
   ]
  },
  {
   "cell_type": "markdown",
   "metadata": {
    "id": "Q4Xhh5FSBeS1"
   },
   "source": [
    "### **3. Helper Functions**"
   ]
  },
  {
   "cell_type": "code",
   "execution_count": 19,
   "metadata": {
    "id": "VFuJti_tBeS1"
   },
   "outputs": [],
   "source": [
    "def make_dir():\n",
    "    image_dir = \"images\"\n",
    "    if not os.path.exists(image_dir):\n",
    "        os.mkdir(image_dir)"
   ]
  },
  {
   "cell_type": "code",
   "execution_count": 20,
   "metadata": {},
   "outputs": [],
   "source": [
    "def compare_plot(a1, a2, t1=\"noisy\", t2=\"denoised\"):\n",
    "    plt.figure(figsize=(8, 3))\n",
    "    plt.subplot(2, 1, 1)\n",
    "    plt.title(t1)\n",
    "    plt.imshow(\n",
    "        np.squeeze(a1),\n",
    "        aspect=\"auto\",\n",
    "        origin=\"lower\",\n",
    "        cmap=\"magma\",\n",
    "        interpolation=\"nearest\",\n",
    "    )\n",
    "    plt.axis(\"off\")\n",
    "    plt.subplot(2, 1, 2)\n",
    "    plt.title(t2)\n",
    "    plt.imshow(\n",
    "        np.squeeze(a2),\n",
    "        aspect=\"auto\",\n",
    "        origin=\"lower\",\n",
    "        cmap=\"magma\",\n",
    "        interpolation=\"nearest\",\n",
    "    )\n",
    "    plt.axis(\"off\")\n",
    "    plt.show()"
   ]
  },
  {
   "cell_type": "code",
   "execution_count": 21,
   "metadata": {},
   "outputs": [],
   "source": [
    "def count_nested_items(nested_dict):\n",
    "    \"\"\"\n",
    "    Counts the total number of items in a 1-level deep nested dictionary.\n",
    "\n",
    "    Parameters:\n",
    "    nested_dict (dict): A dictionary with nested dictionaries as values.\n",
    "\n",
    "    Returns:\n",
    "    int: Total number of items in the nested dictionaries.\n",
    "\n",
    "    chatGPT\n",
    "    \"\"\"\n",
    "    total_items = 0\n",
    "    # Iterate through each value in the top-level dictionary\n",
    "    for value in nested_dict.values():\n",
    "        # Check if the value is a dictionary itself\n",
    "        if isinstance(value, list):\n",
    "            # Add the number of items in the nested dictionary to the total\n",
    "            total_items += len(value)\n",
    "    return total_items"
   ]
  },
  {
   "cell_type": "markdown",
   "metadata": {
    "id": "QmmU_NufBeS1"
   },
   "source": [
    "### **4. Load Data**"
   ]
  },
  {
   "cell_type": "code",
   "execution_count": 22,
   "metadata": {},
   "outputs": [],
   "source": [
    "clean_images = np.load(\"all_loops.npz\")"
   ]
  },
  {
   "cell_type": "markdown",
   "metadata": {
    "id": "SY5xHsFuBeS0"
   },
   "source": [
    "### **5. Prepare the Data**"
   ]
  },
  {
   "cell_type": "code",
   "execution_count": 23,
   "metadata": {
    "id": "J-J6vxvoBeS0"
   },
   "outputs": [],
   "source": [
    "def shift_array_v(arr, down_max, up_max):\n",
    "    # !!!SHIFTS ARE INVERTED!!!\n",
    "    # Determine the shift direction and magnitude\n",
    "    # Positive for down, negative for up\n",
    "    shift_magnitude = random.randint(-up_max, down_max)\n",
    "    # print(f\"(dmax = {down_max}, umax = {up_max}) | shifting notes {'up' if shift_magnitude < 0 else 'down'} {shift_magnitude}\")\n",
    "\n",
    "    num_rows, num_cols = arr.shape\n",
    "\n",
    "    if shift_magnitude > 0:  # Shift down\n",
    "        shifted_arr = np.vstack(\n",
    "            (arr[shift_magnitude:], np.zeros((shift_magnitude, num_cols)))\n",
    "        )\n",
    "    elif shift_magnitude < 0:  # Shift up\n",
    "        shifted_arr = np.vstack(\n",
    "            (np.zeros((-shift_magnitude, num_cols)), arr[: num_rows + shift_magnitude])\n",
    "        )\n",
    "    else:  # No shift\n",
    "        shifted_arr = arr\n",
    "\n",
    "    return shifted_arr, shift_magnitude"
   ]
  },
  {
   "cell_type": "code",
   "execution_count": 24,
   "metadata": {
    "id": "XVfTQ91T0NXa"
   },
   "outputs": [],
   "source": [
    "def format_image(image):\n",
    "    image = np.delete(image, 0, axis=1)\n",
    "    image = torch.from_numpy(np.expand_dims(image, 0)).to(torch.float32)\n",
    "    if torch.any(image > 1.0):\n",
    "        image = image / image.max()\n",
    "    image = F.pad(input=image, pad=(0, 12, 1, 1), mode=\"constant\", value=0.0)\n",
    "\n",
    "    return image"
   ]
  },
  {
   "cell_type": "code",
   "execution_count": 25,
   "metadata": {
    "colab": {
     "base_uri": "https://localhost:8080/"
    },
    "id": "1jmpIHMZsRAD",
    "outputId": "57504cf6-a575-4fa6-b99f-8d7bd683728e"
   },
   "outputs": [],
   "source": [
    "# def noise_images(images, num=1):\n",
    "#     noisy_images = []  # {}\n",
    "#     bad_images = []\n",
    "#     for name, image in list(images.items()):\n",
    "#         time_factor = image[:, 0]  # save time factor\n",
    "#         image = np.delete(image, 0, axis=1)  # remove it from the image though\n",
    "#         # print(f\"Noising {name} -> {image.shape} w min {round(np.min(image), 2)} and max {round(np.max(image), 2)}\")\n",
    "#         for _ in range(num):\n",
    "#             # shift notes up/down\n",
    "#             # non_zero_rows_mask = np.any(image != 0, axis=1)\n",
    "#             # lowest_index = np.where(non_zero_rows_mask)[0][0]\n",
    "#             # highest_index = np.where(non_zero_rows_mask)[0][-1]\n",
    "#             # noisy_image, _ = shift_array_v(\n",
    "#             #     image, lowest_index, image.shape[0] - highest_index - 1\n",
    "#             # )\n",
    "\n",
    "#             # rescale velocities\n",
    "#             scaled_vel = noisy_image / np.max(noisy_image)\n",
    "\n",
    "#             # corrupt image\n",
    "#             noisy_image = torch.from_numpy(noisy_image) + NOISE_FACTOR * np.clip(\n",
    "#                 torch.randn_like(image.shape), np.min(image), np.max(image)\n",
    "#             )\n",
    "\n",
    "#             # check image integrity\n",
    "#             if torch.isnan(noisy_image).any():\n",
    "#                 print(f\"Ouch! broke while noising {name}\")\n",
    "#                 bad_images.append(name)\n",
    "#                 continue\n",
    "\n",
    "#             # reformat\n",
    "#             noisy_image = torch.from_numpy(np.expand_dims(noisy_image, 0)).to(\n",
    "#                 torch.float32\n",
    "#             )\n",
    "#             if torch.any(noisy_image > 1.0):\n",
    "#                 noisy_image = noisy_image / noisy_image.max()\n",
    "#             noisy_image = F.pad(\n",
    "#                 input=noisy_image, pad=(0, 12, 1, 1), mode=\"constant\", value=0\n",
    "#             )\n",
    "\n",
    "#             # dict approach\n",
    "#             # if name not in noisy_images.keys():\n",
    "#             #     noisy_images[name] = []\n",
    "#             # noisy_images[name].append(noisy_image)\n",
    "#             # array approach\n",
    "#             noisy_images.append((name, noisy_image))\n",
    "#             # print(f\"Noised {name} -> {noisy_image.shape} w min {round(np.min(np.array(noisy_image)), 2)} and max {round(np.max(np.array(noisy_image)), 2)}\")\n",
    "\n",
    "#     return noisy_images, bad_images"
   ]
  },
  {
   "cell_type": "code",
   "execution_count": 26,
   "metadata": {},
   "outputs": [],
   "source": [
    "# aug_factor = 5\n",
    "# shifted_images = {}\n",
    "# for name, image in clean_images.items():\n",
    "#     for _ in range(aug_factor):\n",
    "#         non_zero_rows_mask = np.any(image != 0, axis=1)\n",
    "#         lowest_index = np.where(non_zero_rows_mask)[0][0]\n",
    "#         highest_index = np.where(non_zero_rows_mask)[0][-1]\n",
    "\n",
    "#         # avoid repeated magnitude\n",
    "#         shifted_image, mag = shift_array_v(\n",
    "#             image, lowest_index, image.shape[0] - highest_index - 1\n",
    "#         )\n",
    "#         new_key = f\"{Path(name).stem}_{'u' if mag < 0 else 'd'}{np.abs(mag):02d}\"\n",
    "#         # while new_key in shifted_images.keys():\n",
    "#         #     print(f\"key {new_key} already found in dict, retrying\")\n",
    "#         #     shifted_image, mag = shift_array_v(\n",
    "#         #         image, lowest_index, image.shape[0] - highest_index - 1\n",
    "#         #     )\n",
    "#         #     new_key = f\"{Path(name).stem}_{'u' if mag < 0 else 'd'}{np.abs(mag):02d}\"\n",
    "\n",
    "#         shifted_images[new_key] = shifted_image\n",
    "\n",
    "# print(\n",
    "#     f\"used {len(list(clean_images.keys()))} images to generate {len(shifted_images.keys())} shifted images\"\n",
    "# )\n",
    "# noisy_images, trouble = noise_images(shifted_images, aug_factor)\n",
    "# print(\n",
    "#     f\"used {len(list(shifted_images.keys()))} shifted images to generate {len(noisy_images)} noisy images\"\n",
    "# )"
   ]
  },
  {
   "cell_type": "code",
   "execution_count": 27,
   "metadata": {},
   "outputs": [],
   "source": [
    "def augment_data(data, num_permutations=2, out_file=None):\n",
    "    \"\"\"Augments a set of passed-in images by a factor of 2*num_permutations\"\"\"\n",
    "    shifted_images = {}\n",
    "    # noisy_images = {} # dict\n",
    "    noisy_images = []  # array\n",
    "\n",
    "    for name, image in tqdm(list(data.items()), unit=\"images\", dynamic_ncols=True):\n",
    "        time_factor = image[:, 0]  # save time factor\n",
    "        # image = np.delete(image, 0, axis=1)  # remove it from the image though\n",
    "        # print(f\"Noising up {name} @t{time_factor[0]}\")\n",
    "\n",
    "        # make num_permutations vertically shifted images\n",
    "        for _ in range(num_permutations):\n",
    "            # vertical shift images\n",
    "            non_zero_rows_mask = np.any(image != 0, axis=1)\n",
    "            lowest_index = np.where(non_zero_rows_mask)[0][0]\n",
    "            highest_index = np.where(non_zero_rows_mask)[0][-1]\n",
    "\n",
    "            shifted_image, mag = shift_array_v(\n",
    "                image, lowest_index, image.shape[0] - highest_index - 1\n",
    "            )\n",
    "            new_key = f\"{Path(name).stem}_{'u' if mag < 0 else 'd'}{np.abs(mag):02d}\"\n",
    "\n",
    "            # avoid repeated magnitudes\n",
    "            num_tries = 0  # prevent infinite loops\n",
    "            while new_key in shifted_images.keys() and num_tries <= num_permutations:\n",
    "                num_tries += 1\n",
    "                if num_tries == num_permutations:\n",
    "                    print(\n",
    "                        f\"failed on {name} {lowest_index} - {image.shape[0] - highest_index - 1}\"\n",
    "                    )\n",
    "                shifted_image, mag = shift_array_v(\n",
    "                    image, lowest_index, image.shape[0] - highest_index - 1\n",
    "                )\n",
    "                new_key = (\n",
    "                    f\"{Path(name).stem}_{'u' if mag < 0 else 'd'}{np.abs(mag):02d}\"\n",
    "                )\n",
    "\n",
    "            shifted_images[new_key] = shifted_image\n",
    "\n",
    "            # make num_permutations noisy images, which use the v-shifted images as true labels\n",
    "            for _ in range(num_permutations):\n",
    "                # rescale velocities to [0-1]\n",
    "                # noisy_image = image / np.max(image)\n",
    "                noisy_image = shifted_image / np.max(shifted_image)\n",
    "\n",
    "                # corrupt image\n",
    "                noisy_image = torch.from_numpy(\n",
    "                    noisy_image\n",
    "                ) + NOISE_FACTOR * torch.randn(noisy_image.shape)\n",
    "\n",
    "                # reformat\n",
    "                noisy_image = format_image(noisy_image)\n",
    "\n",
    "                # dict approach\n",
    "                # if new_key not in noisy_images.keys():\n",
    "                #     noisy_images[new_key] = []\n",
    "                # noisy_images[new_key].append(noisy_image)\n",
    "                # array approach\n",
    "                noisy_images.append([new_key, noisy_image])\n",
    "\n",
    "    return shifted_images, noisy_images"
   ]
  },
  {
   "cell_type": "markdown",
   "metadata": {},
   "source": [
    "**WARNING: This will use a ton of memory**"
   ]
  },
  {
   "cell_type": "code",
   "execution_count": 28,
   "metadata": {},
   "outputs": [
    {
     "data": {
      "application/vnd.jupyter.widget-view+json": {
       "model_id": "e2e33da4e9944527a2b94ffe350647fd",
       "version_major": 2,
       "version_minor": 0
      },
      "text/plain": [
       "  0%|          | 0/1404 [00:00<?, ?images/s]"
      ]
     },
     "metadata": {},
     "output_type": "display_data"
    },
    {
     "name": "stdout",
     "output_type": "stream",
     "text": [
      "used 1404 clean images to generate 0 vshifted images\n",
      "used 0 shifted images to generate 12636 noisy images of shape torch.Size([1, 60, 412])\n"
     ]
    }
   ],
   "source": [
    "shifted_images, noisy_images = augment_data(clean_images, NUM_PERMUTATIONS)\n",
    "\n",
    "# output_file = f\"augmented_data_{int(time.time())}\"\n",
    "# np.savez_compressed(\n",
    "#     os.path.join(\"data\", output_file),\n",
    "#     **{name: arr for name, arr in noisy_images},\n",
    "# )\n",
    "print(\n",
    "    f\"used {len(list(clean_images.keys()))} clean images to generate {len(list(shifted_images.keys()))} vshifted images\"\n",
    ")\n",
    "print(\n",
    "    f\"used {len(list(shifted_images.keys()))} shifted images to generate {len(noisy_images)} noisy images of shape {noisy_images[0][1].size()}\"\n",
    ")"
   ]
  },
  {
   "cell_type": "markdown",
   "metadata": {
    "id": "Yl-Xy9STBeS1"
   },
   "source": [
    "### **6. Define the AutoEncoder Neural Network**"
   ]
  },
  {
   "cell_type": "code",
   "execution_count": 29,
   "metadata": {
    "id": "aK6hMJrjBeS2"
   },
   "outputs": [],
   "source": [
    "class AutoEncoder(nn.Module):\n",
    "    def __init__(self):\n",
    "        super(AutoEncoder, self).__init__()\n",
    "\n",
    "        # Encoder layers\n",
    "        self.enc1 = nn.Conv2d(1, 64, kernel_size=3, padding=1)\n",
    "        self.enc2 = nn.Conv2d(64, 32, kernel_size=3, padding=1)\n",
    "        self.enc3 = nn.Conv2d(32, 16, kernel_size=3, padding=1)\n",
    "        self.enc4 = nn.Conv2d(16, 8, kernel_size=3, padding=1)\n",
    "        self.pool = nn.MaxPool2d(2, 2)\n",
    "\n",
    "        # Decoder layers\n",
    "        self.dec1 = nn.ConvTranspose2d(8, 8, kernel_size=3, stride=2)\n",
    "        self.dec2 = nn.ConvTranspose2d(8, 16, kernel_size=3, stride=2)\n",
    "        self.dec3 = nn.ConvTranspose2d(16, 32, kernel_size=2, stride=2)\n",
    "        self.dec4 = nn.ConvTranspose2d(32, 64, kernel_size=2, stride=2)\n",
    "        self.out = nn.Conv2d(64, 1, kernel_size=3, padding=1)\n",
    "\n",
    "    def forward(self, x):\n",
    "        # Encoder\n",
    "        x = self.pool(F.relu(self.enc1(x)))\n",
    "        x = self.pool(F.relu(self.enc2(x)))\n",
    "        x = self.pool(F.relu(self.enc3(x)))\n",
    "        x = self.pool(F.relu(self.enc4(x)))  # latent space representation\n",
    "\n",
    "        # Decoder\n",
    "        x = F.relu(self.dec1(x))\n",
    "        x = F.relu(self.dec2(x))\n",
    "        x = F.relu(self.dec3(x))\n",
    "        x = F.relu(self.dec4(x))\n",
    "        x = torch.sigmoid(self.out(x))\n",
    "\n",
    "        return x\n",
    "\n",
    "\n",
    "model = AutoEncoder().to(device)"
   ]
  },
  {
   "cell_type": "code",
   "execution_count": 30,
   "metadata": {
    "colab": {
     "base_uri": "https://localhost:8080/"
    },
    "id": "nVMS7OsyBeS2",
    "outputId": "305cb08f-e595-4539-cb3c-47327bfbb0d7"
   },
   "outputs": [
    {
     "name": "stdout",
     "output_type": "stream",
     "text": [
      "AutoEncoder(\n",
      "  (enc1): Conv2d(1, 64, kernel_size=(3, 3), stride=(1, 1), padding=(1, 1))\n",
      "  (enc2): Conv2d(64, 32, kernel_size=(3, 3), stride=(1, 1), padding=(1, 1))\n",
      "  (enc3): Conv2d(32, 16, kernel_size=(3, 3), stride=(1, 1), padding=(1, 1))\n",
      "  (enc4): Conv2d(16, 8, kernel_size=(3, 3), stride=(1, 1), padding=(1, 1))\n",
      "  (pool): MaxPool2d(kernel_size=2, stride=2, padding=0, dilation=1, ceil_mode=False)\n",
      "  (dec1): ConvTranspose2d(8, 8, kernel_size=(3, 3), stride=(2, 2))\n",
      "  (dec2): ConvTranspose2d(8, 16, kernel_size=(3, 3), stride=(2, 2))\n",
      "  (dec3): ConvTranspose2d(16, 32, kernel_size=(2, 2), stride=(2, 2))\n",
      "  (dec4): ConvTranspose2d(32, 64, kernel_size=(2, 2), stride=(2, 2))\n",
      "  (out): Conv2d(64, 1, kernel_size=(3, 3), stride=(1, 1), padding=(1, 1))\n",
      ")\n"
     ]
    }
   ],
   "source": [
    "print(model)"
   ]
  },
  {
   "cell_type": "code",
   "execution_count": 31,
   "metadata": {
    "colab": {
     "base_uri": "https://localhost:8080/"
    },
    "id": "uQEvArOFBeS2",
    "outputId": "424eb883-28e5-4bd0-aa5b-d658ed2e35e4"
   },
   "outputs": [
    {
     "data": {
      "text/plain": [
       "==========================================================================================\n",
       "Layer (type:depth-idx)                   Output Shape              Param #\n",
       "==========================================================================================\n",
       "AutoEncoder                              [1, 60, 412]              --\n",
       "├─Conv2d: 1-1                            [64, 58, 400]             640\n",
       "├─MaxPool2d: 1-2                         [64, 29, 200]             --\n",
       "├─Conv2d: 1-3                            [32, 29, 200]             18,464\n",
       "├─MaxPool2d: 1-4                         [32, 14, 100]             --\n",
       "├─Conv2d: 1-5                            [16, 14, 100]             4,624\n",
       "├─MaxPool2d: 1-6                         [16, 7, 50]               --\n",
       "├─Conv2d: 1-7                            [8, 7, 50]                1,160\n",
       "├─MaxPool2d: 1-8                         [8, 3, 25]                --\n",
       "├─ConvTranspose2d: 1-9                   [8, 7, 51]                584\n",
       "├─ConvTranspose2d: 1-10                  [16, 15, 103]             1,168\n",
       "├─ConvTranspose2d: 1-11                  [32, 30, 206]             2,080\n",
       "├─ConvTranspose2d: 1-12                  [64, 60, 412]             8,256\n",
       "├─Conv2d: 1-13                           [1, 60, 412]              577\n",
       "==========================================================================================\n",
       "Total params: 37,553\n",
       "Trainable params: 37,553\n",
       "Non-trainable params: 0\n",
       "Total mult-adds (M): 376.22\n",
       "==========================================================================================\n",
       "Input size (MB): 0.09\n",
       "Forward/backward pass size (MB): 28.22\n",
       "Params size (MB): 0.15\n",
       "Estimated Total Size (MB): 28.46\n",
       "=========================================================================================="
      ]
     },
     "execution_count": 31,
     "metadata": {},
     "output_type": "execute_result"
    }
   ],
   "source": [
    "summary(model, (1, 58, 400))"
   ]
  },
  {
   "cell_type": "markdown",
   "metadata": {
    "id": "YjjIFa2yBeS2"
   },
   "source": [
    "### **7. Optimizer and Loss Function**"
   ]
  },
  {
   "cell_type": "code",
   "execution_count": 32,
   "metadata": {
    "id": "oiUmiKepBeS2"
   },
   "outputs": [],
   "source": [
    "# the loss function\n",
    "loss_fn = nn.MSELoss()\n",
    "# the optimizer\n",
    "optimizer = optim.Adam(model.parameters(), lr=LEARNING_RATE)"
   ]
  },
  {
   "cell_type": "markdown",
   "metadata": {
    "id": "mIUfa004BeS2"
   },
   "source": [
    "### **8. Train**\n",
    "\n",
    "#### Function"
   ]
  },
  {
   "cell_type": "code",
   "execution_count": 33,
   "metadata": {
    "colab": {
     "base_uri": "https://localhost:8080/",
     "height": 490
    },
    "id": "8GnlBhY1HiwV",
    "outputId": "05ebe3cf-41fa-469d-fcc0-3f5c7a3cb160"
   },
   "outputs": [],
   "source": [
    "def train(net, noisy_images, epochs=NUM_EPOCHS, plot=False):\n",
    "    train_loss = []\n",
    "    noisy_arrays = []  # change to dict\n",
    "    denoised_arrays = []  # change to dict\n",
    "    for epoch in trange(epochs):\n",
    "        running_loss = 0.0\n",
    "        with tqdm(noisy_images, unit=\"batch\", dynamic_ncols=False) as tepoch:\n",
    "            for name, image in tepoch:\n",
    "                tepoch.set_description(f\"Epoch {epoch+1}\")\n",
    "\n",
    "                image = image.to(device)  # (1, 60, 412)\n",
    "                optimizer.zero_grad()\n",
    "                outputs = net(image)  # (1, 60, 412)\n",
    "                # loss\n",
    "                loss = loss_fn(outputs, image)\n",
    "                # backpropagation\n",
    "                loss.backward()\n",
    "                # update the parameters\n",
    "                optimizer.step()\n",
    "                running_loss += loss.item()\n",
    "                tepoch.set_postfix(loss=f\"{running_loss:.02f}\")\n",
    "\n",
    "                if plot:\n",
    "                    compare_plot(image.cpu().data, outputs.cpu().data, name)\n",
    "\n",
    "            loss = running_loss / len(noisy_images)\n",
    "            train_loss.append(loss)\n",
    "\n",
    "            noisy_arrays.append((name, image.cpu().data))\n",
    "            denoised_arrays.append((name, outputs.cpu().data))\n",
    "\n",
    "    # save images as arrays for later viewing\n",
    "    noisy_file = f\"noisy-{int(time.time())}\"\n",
    "    denoised_file = f\"denoised-{int(time.time())}\"\n",
    "    np.savez(\n",
    "        os.path.join(\"data\", noisy_file),\n",
    "        **{name: arr for name, arr in noisy_arrays},\n",
    "    )\n",
    "    np.savez(\n",
    "        os.path.join(\"data\", denoised_file),\n",
    "        **{name: arr for name, arr in denoised_arrays},\n",
    "    )\n",
    "\n",
    "    return train_loss, (noisy_file, denoised_file)"
   ]
  },
  {
   "cell_type": "markdown",
   "metadata": {},
   "source": [
    "#### Run"
   ]
  },
  {
   "cell_type": "code",
   "execution_count": 34,
   "metadata": {},
   "outputs": [
    {
     "data": {
      "application/vnd.jupyter.widget-view+json": {
       "model_id": "27bbdb690ea3496290dc388fc95a005a",
       "version_major": 2,
       "version_minor": 0
      },
      "text/plain": [
       "  0%|          | 0/10 [00:00<?, ?it/s]"
      ]
     },
     "metadata": {},
     "output_type": "display_data"
    },
    {
     "data": {
      "application/vnd.jupyter.widget-view+json": {
       "model_id": "0c83d3ba33d547aebf32b4402a356fab",
       "version_major": 2,
       "version_minor": 0
      },
      "text/plain": [
       "  0%|          | 0/12636 [00:00<?, ?batch/s]"
      ]
     },
     "metadata": {},
     "output_type": "display_data"
    },
    {
     "data": {
      "application/vnd.jupyter.widget-view+json": {
       "model_id": "81e7aca711db47e7b1036bea04a4e51c",
       "version_major": 2,
       "version_minor": 0
      },
      "text/plain": [
       "  0%|          | 0/12636 [00:00<?, ?batch/s]"
      ]
     },
     "metadata": {},
     "output_type": "display_data"
    },
    {
     "data": {
      "application/vnd.jupyter.widget-view+json": {
       "model_id": "0bdcafafb4a548afa2fe383cfac92880",
       "version_major": 2,
       "version_minor": 0
      },
      "text/plain": [
       "  0%|          | 0/12636 [00:00<?, ?batch/s]"
      ]
     },
     "metadata": {},
     "output_type": "display_data"
    },
    {
     "data": {
      "application/vnd.jupyter.widget-view+json": {
       "model_id": "dee93ee4bde94fcf8a926bb877c3d440",
       "version_major": 2,
       "version_minor": 0
      },
      "text/plain": [
       "  0%|          | 0/12636 [00:00<?, ?batch/s]"
      ]
     },
     "metadata": {},
     "output_type": "display_data"
    },
    {
     "data": {
      "application/vnd.jupyter.widget-view+json": {
       "model_id": "857a7f83218043f0a98a4e9e4a1f26da",
       "version_major": 2,
       "version_minor": 0
      },
      "text/plain": [
       "  0%|          | 0/12636 [00:00<?, ?batch/s]"
      ]
     },
     "metadata": {},
     "output_type": "display_data"
    },
    {
     "data": {
      "application/vnd.jupyter.widget-view+json": {
       "model_id": "71492dc09c734ff1a6fa0414851d0dc0",
       "version_major": 2,
       "version_minor": 0
      },
      "text/plain": [
       "  0%|          | 0/12636 [00:00<?, ?batch/s]"
      ]
     },
     "metadata": {},
     "output_type": "display_data"
    },
    {
     "data": {
      "application/vnd.jupyter.widget-view+json": {
       "model_id": "c5ce92fc0a0b440fa6e243f694207489",
       "version_major": 2,
       "version_minor": 0
      },
      "text/plain": [
       "  0%|          | 0/12636 [00:00<?, ?batch/s]"
      ]
     },
     "metadata": {},
     "output_type": "display_data"
    },
    {
     "data": {
      "application/vnd.jupyter.widget-view+json": {
       "model_id": "0df6106db9a34da5961f7f26567e805c",
       "version_major": 2,
       "version_minor": 0
      },
      "text/plain": [
       "  0%|          | 0/12636 [00:00<?, ?batch/s]"
      ]
     },
     "metadata": {},
     "output_type": "display_data"
    },
    {
     "data": {
      "application/vnd.jupyter.widget-view+json": {
       "model_id": "7fd6a1108c63463ca48df8af77a90f8d",
       "version_major": 2,
       "version_minor": 0
      },
      "text/plain": [
       "  0%|          | 0/12636 [00:00<?, ?batch/s]"
      ]
     },
     "metadata": {},
     "output_type": "display_data"
    },
    {
     "data": {
      "application/vnd.jupyter.widget-view+json": {
       "model_id": "6506c11bdd144a8fa0bd4c36d2c4171e",
       "version_major": 2,
       "version_minor": 0
      },
      "text/plain": [
       "  0%|          | 0/12636 [00:00<?, ?batch/s]"
      ]
     },
     "metadata": {},
     "output_type": "display_data"
    }
   ],
   "source": [
    "make_dir()\n",
    "# si_tensor = [\n",
    "#     (k, torch.from_numpy(np.expand_dims(format_image(v), 0)).to(torch.float32))\n",
    "#     for k, v in list(shifted_images.items())\n",
    "# ]\n",
    "# random.shuffle(si_tensor)\n",
    "train_loss, output_filenames = train(model, noisy_images)"
   ]
  },
  {
   "cell_type": "markdown",
   "metadata": {},
   "source": [
    "#### Plot"
   ]
  },
  {
   "cell_type": "code",
   "execution_count": 35,
   "metadata": {},
   "outputs": [
    {
     "data": {
      "image/png": "[encoded data removed]",
      "text/plain": [
       "<Figure size 640x480 with 1 Axes>"
      ]
     },
     "metadata": {},
     "output_type": "display_data"
    }
   ],
   "source": [
    "plt.figure()\n",
    "plt.plot(train_loss)\n",
    "plt.title(\"Train Loss\")\n",
    "plt.xlabel(\"Epochs\")\n",
    "plt.ylabel(\"Loss\")\n",
    "plt.show()"
   ]
  },
  {
   "cell_type": "markdown",
   "metadata": {},
   "source": [
    "#### Test"
   ]
  },
  {
   "cell_type": "code",
   "execution_count": 36,
   "metadata": {},
   "outputs": [
    {
     "data": {
      "image/png": "[encoded data removed]",
      "text/plain": [
       "<Figure size 800x300 with 2 Axes>"
      ]
     },
     "metadata": {},
     "output_type": "display_data"
    }
   ],
   "source": [
    "n_files = np.load(f\"data/{output_filenames[0]}.npz\")\n",
    "d_files = np.load(f\"data/{output_filenames[1]}.npz\")\n",
    "\n",
    "for (k1, v1), (k2, v2) in zip(n_files.items(), d_files.items()):\n",
    "    compare_plot(v1, v2, \"input\", \"reconstruction\")"
   ]
  },
  {
   "cell_type": "markdown",
   "metadata": {},
   "source": [
    "### Overfit Test"
   ]
  },
  {
   "cell_type": "code",
   "execution_count": 37,
   "metadata": {},
   "outputs": [
    {
     "ename": "NameError",
     "evalue": "name 'error' is not defined",
     "output_type": "error",
     "traceback": [
      "\u001b[0;31m---------------------------------------------------------------------------\u001b[0m",
      "\u001b[0;31mNameError\u001b[0m                                 Traceback (most recent call last)",
      "Cell \u001b[0;32mIn[37], line 1\u001b[0m\n\u001b[0;32m----> 1\u001b[0m \u001b[43merror\u001b[49m\n",
      "\u001b[0;31mNameError\u001b[0m: name 'error' is not defined"
     ]
    }
   ],
   "source": [
    "error"
   ]
  },
  {
   "cell_type": "code",
   "execution_count": null,
   "metadata": {},
   "outputs": [],
   "source": [
    "overfit_set = [si_tensor[0]]\n",
    "train_loss, output_filenames = train(model, overfit_set, overfit_set)\n",
    "of_out = model(overfit_set[0][1].to(device))\n",
    "\n",
    "compare_plot(overfit_set[0][1], of_out.cpu().data, \"input\", \"reconstruction\")"
   ]
  },
  {
   "cell_type": "markdown",
   "metadata": {},
   "source": [
    "## Old"
   ]
  },
  {
   "cell_type": "code",
   "execution_count": null,
   "metadata": {},
   "outputs": [],
   "source": [
    "error"
   ]
  },
  {
   "cell_type": "code",
   "execution_count": null,
   "metadata": {},
   "outputs": [],
   "source": [
    "def test_image_reconstruction(net, testloader):\n",
    "    for batch in testloader:\n",
    "        img, _ = batch\n",
    "        img_noisy = img + NOISE_FACTOR * torch.randn(img.shape)\n",
    "        img_noisy = np.clip(img_noisy, 0.0, 1.0)\n",
    "        img_noisy = img_noisy.to(device)\n",
    "        outputs = net(img_noisy)\n",
    "        outputs = outputs.view(outputs.size(0), 1, 28, 28).cpu().data\n",
    "        save_image(img_noisy, \"noisy_test_input.png\")\n",
    "        save_image(outputs, \"denoised_test_reconstruction.png\")\n",
    "        break"
   ]
  },
  {
   "cell_type": "code",
   "execution_count": null,
   "metadata": {
    "id": "iJAgVLPIBeS2"
   },
   "outputs": [],
   "source": [
    "def train_bak(net, trainLoader, NUM_EPOCHS):\n",
    "    train_loss = []\n",
    "    for epoch in range(NUM_EPOCHS):\n",
    "        running_loss = 0.0\n",
    "        with tqdm(trainLoader, unit=\"batch\") as tepoch:\n",
    "            for data in tepoch:\n",
    "                tepoch.set_description(f\"Epoch {epoch+1}\")\n",
    "                img, _ = data  # we do not need the image labels\n",
    "                # add noise to the image data\n",
    "                img_noisy = img + NOISE_FACTOR * torch.randn(img.shape)\n",
    "                # clip to make the values fall between 0 and 1\n",
    "                img_noisy = np.clip(img_noisy, 0.0, 1.0)\n",
    "                img_noisy = img_noisy.to(device)\n",
    "                optimizer.zero_grad()\n",
    "                outputs = net(img_noisy)\n",
    "                loss = loss_fn(outputs, img_noisy)\n",
    "                # backpropagation\n",
    "                loss.backward()\n",
    "                # update the parameters\n",
    "                optimizer.step()\n",
    "                running_loss += loss.item()\n",
    "                tepoch.set_postfix(loss=loss)\n",
    "\n",
    "            loss = running_loss / len(trainLoader)\n",
    "            train_loss.append(loss)\n",
    "            # print(f\"Epoch {epoch} loss: {loss}\")\n",
    "            save_decoded_image(img_noisy.cpu().data, name=\"noisy{}\".format(epoch))\n",
    "            save_decoded_image(outputs.cpu().data, name=\"denoised{}\".format(epoch))\n",
    "\n",
    "    return train_loss"
   ]
  }
 ],
 "metadata": {
  "accelerator": "GPU",
  "colab": {
   "gpuType": "T4",
   "provenance": []
  },
  "interpreter": {
   "hash": "884a8f81666a19c0851426c83cd6eaa7b212468ad852fb3caa21591c98d4369f"
  },
  "kernelspec": {
   "display_name": "Python 3 (ipykernel)",
   "language": "python",
   "name": "python3"
  },
  "language_info": {
   "codemirror_mode": {
    "name": "ipython",
    "version": 3
   },
   "file_extension": ".py",
   "mimetype": "text/x-python",
   "name": "python",
   "nbconvert_exporter": "python",
   "pygments_lexer": "ipython3",
   "version": "3.10.13"
  }
 },
 "nbformat": 4,
 "nbformat_minor": 4
}
