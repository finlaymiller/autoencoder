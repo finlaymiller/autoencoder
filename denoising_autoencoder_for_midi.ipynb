{
 "cells": [
  {
   "cell_type": "markdown",
   "metadata": {},
   "source": [
    "# DENOISING AUTOENCODER FOR MIDI"
   ]
  },
  {
   "cell_type": "markdown",
   "metadata": {
    "id": "EnjYUqvzBeSz"
   },
   "source": [
    "### **1. Load Libraries**\n",
    "\n",
    "The imported modules include:\n",
    "\n",
    "* `torchvision`: contains many popular computer vision datasets, deep neural network architectures, and image processing modules. We will use this to download the CIFAR10 dataset.\n",
    "* `torch.nn`: contains the deep learning neural network layers such as `Linear()`, and `Conv2d()`.\n",
    "* `transforms`: will help in defining the image transforms and normalizations.\n",
    "* `optim`: contains the deep learning optimizer classes such as `MSELoss()` and many others as well.\n",
    "* `functional`: we will use this for activation functions such as ReLU.\n",
    "* `DataLoader`: eases the task of making iterable training and testing sets."
   ]
  },
  {
   "cell_type": "code",
   "execution_count": 1,
   "metadata": {
    "id": "pCnwb04BBeSz"
   },
   "outputs": [],
   "source": [
    "# torch\n",
    "import torch\n",
    "import torch.nn as nn\n",
    "import torch.optim as optim\n",
    "import torch.nn.functional as F\n",
    "from torch.utils.tensorboard.writer import SummaryWriter\n",
    "\n",
    "# torchvision\n",
    "from torchinfo import summary\n",
    "from torchvision.utils import save_image\n",
    "\n",
    "# other\n",
    "import os\n",
    "import time\n",
    "import random\n",
    "import numpy as np\n",
    "from pathlib import Path\n",
    "import matplotlib.pyplot as plt\n",
    "from tqdm.notebook import trange, tqdm"
   ]
  },
  {
   "cell_type": "markdown",
   "metadata": {},
   "source": [
    "#### Dark theme"
   ]
  },
  {
   "cell_type": "code",
   "execution_count": 2,
   "metadata": {},
   "outputs": [],
   "source": [
    "plt.style.use(\"dark_background\")"
   ]
  },
  {
   "cell_type": "code",
   "execution_count": 3,
   "metadata": {},
   "outputs": [
    {
     "data": {
      "text/html": [
       "<style>\n",
       ".cell-output-ipywidget-background {\n",
       "    background-color: transparent !important;\n",
       "}\n",
       ":root {\n",
       "    --jp-widgets-color: var(--vscode-editor-foreground);\n",
       "    --jp-widgets-font-size: var(--vscode-editor-font-size);\n",
       "}  \n",
       "</style>\n"
      ],
      "text/plain": [
       "<IPython.core.display.HTML object>"
      ]
     },
     "metadata": {},
     "output_type": "display_data"
    }
   ],
   "source": [
    "%%html\n",
    "<style>\n",
    ".cell-output-ipywidget-background {\n",
    "    background-color: transparent !important;\n",
    "}\n",
    ":root {\n",
    "    --jp-widgets-color: var(--vscode-editor-foreground);\n",
    "    --jp-widgets-font-size: var(--vscode-editor-font-size);\n",
    "}  \n",
    "</style>"
   ]
  },
  {
   "cell_type": "markdown",
   "metadata": {},
   "source": [
    "%%html\n",
    "<style>\n",
    ".cell-output-ipywidget-background {\n",
    "    background-color: transparent !important;\n",
    "}\n",
    ":root {\n",
    "    --jp-widgets-color: var(--vscode-editor-foreground);\n",
    "    --jp-widgets-font-size: var(--vscode-editor-font-size);\n",
    "}  \n",
    "</style>"
   ]
  },
  {
   "cell_type": "markdown",
   "metadata": {
    "id": "PUu40u7OBeS0"
   },
   "source": [
    "### **2. Define Constants**"
   ]
  },
  {
   "cell_type": "code",
   "execution_count": 4,
   "metadata": {
    "id": "0kqgrIS7BeS0"
   },
   "outputs": [
    {
     "name": "stdout",
     "output_type": "stream",
     "text": [
      "Using device: cuda:0\n"
     ]
    }
   ],
   "source": [
    "# constants\n",
    "NUM_EPOCHS = 2\n",
    "LEARNING_RATE = 0.001\n",
    "BATCH_SIZE = 32\n",
    "NOISE_FACTOR = 0.00\n",
    "NUM_PERMUTATIONS = 2\n",
    "\n",
    "device = torch.device(\"cuda:0\" if torch.cuda.is_available() else \"cpu\")\n",
    "print(f\"Using device: {device}\")"
   ]
  },
  {
   "cell_type": "markdown",
   "metadata": {
    "id": "Q4Xhh5FSBeS1"
   },
   "source": [
    "### **3. Helper Functions**"
   ]
  },
  {
   "cell_type": "code",
   "execution_count": 5,
   "metadata": {},
   "outputs": [],
   "source": [
    "def compare_plot(a1, a2, t1=\"noisy\", t2=\"denoised\", set_axis=\"off\", video=False):\n",
    "    plt.figure(figsize=(10, 5))\n",
    "    plt.subplot(2, 1, 1)\n",
    "    plt.title(t1)\n",
    "    plt.imshow(\n",
    "        np.squeeze(a1),\n",
    "        aspect=\"auto\",\n",
    "        origin=\"lower\",\n",
    "        cmap=\"magma\",\n",
    "        interpolation=\"nearest\",\n",
    "    )\n",
    "    plt.axis(set_axis)\n",
    "    plt.subplot(2, 1, 2)\n",
    "    plt.title(t2)\n",
    "    plt.imshow(\n",
    "        np.squeeze(a2),\n",
    "        aspect=\"auto\",\n",
    "        origin=\"lower\",\n",
    "        cmap=\"magma\",\n",
    "        interpolation=\"nearest\",\n",
    "    )\n",
    "    plt.axis(set_axis)\n",
    "\n",
    "    if video:\n",
    "        dirname = f\"video\"\n",
    "        if not os.path.isdir(dirname):\n",
    "            os.mkdir(dirname)\n",
    "        plt.savefig(\n",
    "            f\"{dirname}/plot-{int(time.time())}.png\",\n",
    "            dpi=300,\n",
    "            bbox_inches=\"tight\",\n",
    "        )\n",
    "        plt.close()\n",
    "    else:\n",
    "        plt.show()"
   ]
  },
  {
   "cell_type": "markdown",
   "metadata": {
    "id": "QmmU_NufBeS1"
   },
   "source": [
    "### **4. Load Data**"
   ]
  },
  {
   "cell_type": "code",
   "execution_count": 6,
   "metadata": {},
   "outputs": [],
   "source": [
    "clean_images = np.load(\"all_loops.npz\")"
   ]
  },
  {
   "cell_type": "code",
   "execution_count": 7,
   "metadata": {},
   "outputs": [],
   "source": [
    "def shift_image_vertically(name, array, num_iterations):\n",
    "    shifted_images = []\n",
    "\n",
    "    def find_non_zero_bounds(arr):\n",
    "        # Find the first and last row index with a non-zero element\n",
    "        rows_with_non_zero = np.where(arr.any(axis=1))[0]\n",
    "        if len(rows_with_non_zero) == 0:\n",
    "            return (0, arr.shape[0] - 1)  # Handle case with no non-zero elements\n",
    "        return rows_with_non_zero[0], rows_with_non_zero[-1]\n",
    "\n",
    "    def shift_array(arr, up=0, down=0):\n",
    "        # Shift array vertically\n",
    "        if up > 0:\n",
    "            arr = np.roll(arr, -up, axis=0)\n",
    "            arr[-up:] = 0\n",
    "        elif down > 0:\n",
    "            arr = np.roll(arr, down, axis=0)\n",
    "            arr[:down] = 0\n",
    "        return arr\n",
    "\n",
    "    highest, lowest = find_non_zero_bounds(array)\n",
    "    maximum_up = highest\n",
    "    maximum_down = array.shape[0] - lowest - 1\n",
    "\n",
    "    for _ in range(num_iterations):\n",
    "        # Shift up and then down, decreasing the shift amount in each iteration\n",
    "        for i in range(maximum_up, 0, -1):\n",
    "            new_key = f\"{Path(name).stem}_u{i:02d}\"\n",
    "            shifted_images.append((new_key, np.copy(shift_array(array, up=i))))\n",
    "        for i in range(maximum_down, 0, -1):\n",
    "            new_key = f\"{Path(name).stem}_d{i:02d}\"\n",
    "            shifted_images.append((new_key, np.copy(shift_array(array, down=i))))\n",
    "\n",
    "    random.shuffle(shifted_images)\n",
    "\n",
    "    return shifted_images[:num_iterations]"
   ]
  },
  {
   "cell_type": "markdown",
   "metadata": {
    "id": "SY5xHsFuBeS0"
   },
   "source": [
    "### **5. Prepare the Data**"
   ]
  },
  {
   "cell_type": "code",
   "execution_count": 8,
   "metadata": {
    "id": "XVfTQ91T0NXa"
   },
   "outputs": [],
   "source": [
    "def format_image(image, remove_time=False):\n",
    "    if remove_time:\n",
    "        image = np.delete(image, 0, axis=1)\n",
    "    image = torch.from_numpy(np.expand_dims(image, 0)).to(torch.float32)\n",
    "    if torch.any(image > 1.0):\n",
    "        image = image / image.max()\n",
    "    image = F.pad(input=image, pad=(0, 12, 1, 1), mode=\"constant\", value=0.0)\n",
    "\n",
    "    return image"
   ]
  },
  {
   "cell_type": "code",
   "execution_count": 9,
   "metadata": {},
   "outputs": [],
   "source": [
    "def augment_data(clean_images, num_permutations=NUM_PERMUTATIONS, vshift=True):\n",
    "    \"\"\"Augments a set of passed-in images by a factor of 2*num_permutations\"\"\"\n",
    "    shifted_images = []\n",
    "    noisy_images = []\n",
    "\n",
    "    for name, image in tqdm(\n",
    "        list(clean_images.items()), unit=\"images\", dynamic_ncols=True\n",
    "    ):\n",
    "        time_factor = image[:, 0]  # save time factor\n",
    "        image = np.delete(image, 0, axis=1)  # remove it from the image though\n",
    "        if vshift:\n",
    "            # vertical shift images\n",
    "            shifted_images.append(shift_image_vertically(name, image, num_permutations))\n",
    "        else:\n",
    "            # reformat clean image array\n",
    "            shifted_images.append([(name, image)])\n",
    "\n",
    "        # add noise to images\n",
    "        for si in shifted_images[-1]:\n",
    "            new_key, shifted_image = si\n",
    "            for _ in range(num_permutations):\n",
    "                # normalize\n",
    "                noisy_image = shifted_image / np.max(shifted_image)\n",
    "\n",
    "                # corrupt\n",
    "                noisy_image = torch.from_numpy(\n",
    "                    noisy_image\n",
    "                ) + NOISE_FACTOR * torch.randn(noisy_image.shape)\n",
    "\n",
    "                # reformat\n",
    "                noisy_image = format_image(noisy_image)\n",
    "\n",
    "                noisy_images.append((new_key, noisy_image))\n",
    "\n",
    "    random.shuffle(noisy_images)\n",
    "\n",
    "    return shifted_images, noisy_images"
   ]
  },
  {
   "cell_type": "markdown",
   "metadata": {},
   "source": [
    "#### Data augmentation\n",
    "**WARNING: This may use a ton of memory**"
   ]
  },
  {
   "cell_type": "code",
   "execution_count": 10,
   "metadata": {},
   "outputs": [
    {
     "data": {
      "application/vnd.jupyter.widget-view+json": {
       "model_id": "b71ea4430f7a4fefb029fa8110c34b04",
       "version_major": 2,
       "version_minor": 0
      },
      "text/plain": [
       "  0%|          | 0/1404 [00:00<?, ?images/s]"
      ]
     },
     "metadata": {},
     "output_type": "display_data"
    },
    {
     "name": "stdout",
     "output_type": "stream",
     "text": [
      "used 1404 clean images to generate 5616 noisy images of shape torch.Size([1, 60, 412])\n"
     ]
    }
   ],
   "source": [
    "shifted_images, training_data = augment_data(clean_images, vshift=True)\n",
    "\n",
    "# output_file = f\"augmented_data_{int(time.time())}\"\n",
    "# np.savez_compressed(\n",
    "#     os.path.join(\"data\", output_file),\n",
    "#     **{name: arr for name, arr in noisy_images},\n",
    "# )\n",
    "print(\n",
    "    f\"used {len(list(clean_images.keys()))} clean images to generate {len(training_data)} noisy images of shape {training_data[0][1].size()}\"\n",
    ")"
   ]
  },
  {
   "cell_type": "markdown",
   "metadata": {},
   "source": [
    "#### View Results"
   ]
  },
  {
   "cell_type": "code",
   "execution_count": 11,
   "metadata": {},
   "outputs": [
    {
     "data": {
      "image/png": "[encoded data removed]",
      "text/plain": [
       "<Figure size 1000x500 with 2 Axes>"
      ]
     },
     "metadata": {},
     "output_type": "display_data"
    },
    {
     "data": {
      "image/png": "[encoded data removed]",
      "text/plain": [
       "<Figure size 1000x500 with 2 Axes>"
      ]
     },
     "metadata": {},
     "output_type": "display_data"
    }
   ],
   "source": [
    "for data in training_data[:2]:\n",
    "    k, v = data\n",
    "    compare_plot(\n",
    "        clean_images[k[: k.rfind(\"_\")] + \".mid\"], v, k, f\"noise ({NOISE_FACTOR})\"\n",
    "    )"
   ]
  },
  {
   "cell_type": "markdown",
   "metadata": {
    "id": "Yl-Xy9STBeS1"
   },
   "source": [
    "### **6. Define the AutoEncoder**"
   ]
  },
  {
   "cell_type": "code",
   "execution_count": 12,
   "metadata": {},
   "outputs": [],
   "source": [
    "def initialize_weights(model, a=0.0, b=1.0):\n",
    "    for module in model.modules():\n",
    "        if isinstance(module, nn.Conv2d) or isinstance(module, nn.ConvTranspose2d):\n",
    "            # Apply uniform initialization to the weights\n",
    "            nn.init.uniform_(module.weight, a, b)\n",
    "            # Check if the module has a bias attribute\n",
    "            if module.bias is not None:\n",
    "                # Initialize the bias with the same bounds\n",
    "                nn.init.uniform_(module.bias, a, b)"
   ]
  },
  {
   "cell_type": "code",
   "execution_count": 13,
   "metadata": {
    "id": "aK6hMJrjBeS2"
   },
   "outputs": [],
   "source": [
    "class AutoEncoder(nn.Module):\n",
    "    def __init__(self):\n",
    "        super(AutoEncoder, self).__init__()\n",
    "\n",
    "        # Encoder layers\n",
    "        self.enc1 = nn.Conv2d(1, 64, kernel_size=3, padding=1)\n",
    "        self.enc2 = nn.Conv2d(64, 32, kernel_size=3, padding=1)\n",
    "        self.enc3 = nn.Conv2d(32, 16, kernel_size=3, padding=1)\n",
    "        self.enc4 = nn.Conv2d(16, 8, kernel_size=3, padding=1)\n",
    "        self.pool = nn.MaxPool2d(2, 2)\n",
    "\n",
    "        # Decoder layers\n",
    "        self.dec1 = nn.ConvTranspose2d(8, 8, kernel_size=3, stride=2)\n",
    "        self.dec2 = nn.ConvTranspose2d(8, 16, kernel_size=3, stride=2)\n",
    "        self.dec3 = nn.ConvTranspose2d(16, 32, kernel_size=2, stride=2)\n",
    "        self.dec4 = nn.ConvTranspose2d(32, 64, kernel_size=2, stride=2)\n",
    "        self.out = nn.Conv2d(64, 1, kernel_size=3, padding=1)\n",
    "\n",
    "    def forward(self, x):\n",
    "        # Encoder\n",
    "        x = self.pool(F.relu(self.enc1(x)))\n",
    "        x = self.pool(F.relu(self.enc2(x)))\n",
    "        x = self.pool(F.relu(self.enc3(x)))\n",
    "        x = self.pool(F.relu(self.enc4(x)))  # latent space representation\n",
    "\n",
    "        # Decoder\n",
    "        x = F.relu(self.dec1(x))\n",
    "        x = F.relu(self.dec2(x))\n",
    "        x = F.relu(self.dec3(x))\n",
    "        x = F.relu(self.dec4(x))\n",
    "        x = torch.sigmoid(self.out(x))\n",
    "\n",
    "        return x\n",
    "\n",
    "\n",
    "model = AutoEncoder().to(device)"
   ]
  },
  {
   "cell_type": "code",
   "execution_count": 14,
   "metadata": {
    "colab": {
     "base_uri": "https://localhost:8080/"
    },
    "id": "nVMS7OsyBeS2",
    "outputId": "305cb08f-e595-4539-cb3c-47327bfbb0d7"
   },
   "outputs": [
    {
     "name": "stdout",
     "output_type": "stream",
     "text": [
      "AutoEncoder(\n",
      "  (enc1): Conv2d(1, 64, kernel_size=(3, 3), stride=(1, 1), padding=(1, 1))\n",
      "  (enc2): Conv2d(64, 32, kernel_size=(3, 3), stride=(1, 1), padding=(1, 1))\n",
      "  (enc3): Conv2d(32, 16, kernel_size=(3, 3), stride=(1, 1), padding=(1, 1))\n",
      "  (enc4): Conv2d(16, 8, kernel_size=(3, 3), stride=(1, 1), padding=(1, 1))\n",
      "  (pool): MaxPool2d(kernel_size=2, stride=2, padding=0, dilation=1, ceil_mode=False)\n",
      "  (dec1): ConvTranspose2d(8, 8, kernel_size=(3, 3), stride=(2, 2))\n",
      "  (dec2): ConvTranspose2d(8, 16, kernel_size=(3, 3), stride=(2, 2))\n",
      "  (dec3): ConvTranspose2d(16, 32, kernel_size=(2, 2), stride=(2, 2))\n",
      "  (dec4): ConvTranspose2d(32, 64, kernel_size=(2, 2), stride=(2, 2))\n",
      "  (out): Conv2d(64, 1, kernel_size=(3, 3), stride=(1, 1), padding=(1, 1))\n",
      ")\n"
     ]
    }
   ],
   "source": [
    "print(model)"
   ]
  },
  {
   "cell_type": "code",
   "execution_count": 15,
   "metadata": {
    "colab": {
     "base_uri": "https://localhost:8080/"
    },
    "id": "uQEvArOFBeS2",
    "outputId": "424eb883-28e5-4bd0-aa5b-d658ed2e35e4"
   },
   "outputs": [
    {
     "data": {
      "text/plain": [
       "==========================================================================================\n",
       "Layer (type:depth-idx)                   Output Shape              Param #\n",
       "==========================================================================================\n",
       "AutoEncoder                              [1, 60, 412]              --\n",
       "├─Conv2d: 1-1                            [64, 58, 400]             640\n",
       "├─MaxPool2d: 1-2                         [64, 29, 200]             --\n",
       "├─Conv2d: 1-3                            [32, 29, 200]             18,464\n",
       "├─MaxPool2d: 1-4                         [32, 14, 100]             --\n",
       "├─Conv2d: 1-5                            [16, 14, 100]             4,624\n",
       "├─MaxPool2d: 1-6                         [16, 7, 50]               --\n",
       "├─Conv2d: 1-7                            [8, 7, 50]                1,160\n",
       "├─MaxPool2d: 1-8                         [8, 3, 25]                --\n",
       "├─ConvTranspose2d: 1-9                   [8, 7, 51]                584\n",
       "├─ConvTranspose2d: 1-10                  [16, 15, 103]             1,168\n",
       "├─ConvTranspose2d: 1-11                  [32, 30, 206]             2,080\n",
       "├─ConvTranspose2d: 1-12                  [64, 60, 412]             8,256\n",
       "├─Conv2d: 1-13                           [1, 60, 412]              577\n",
       "==========================================================================================\n",
       "Total params: 37,553\n",
       "Trainable params: 37,553\n",
       "Non-trainable params: 0\n",
       "Total mult-adds (M): 376.22\n",
       "==========================================================================================\n",
       "Input size (MB): 0.09\n",
       "Forward/backward pass size (MB): 28.22\n",
       "Params size (MB): 0.15\n",
       "Estimated Total Size (MB): 28.46\n",
       "=========================================================================================="
      ]
     },
     "execution_count": 15,
     "metadata": {},
     "output_type": "execute_result"
    }
   ],
   "source": [
    "summary(model, (1, 58, 400))"
   ]
  },
  {
   "cell_type": "markdown",
   "metadata": {
    "id": "YjjIFa2yBeS2"
   },
   "source": [
    "### **7. Optimizer and Loss Function**"
   ]
  },
  {
   "cell_type": "code",
   "execution_count": 16,
   "metadata": {
    "id": "oiUmiKepBeS2"
   },
   "outputs": [],
   "source": [
    "# the loss function\n",
    "loss_fn = nn.MSELoss()\n",
    "# the optimizer\n",
    "optimizer = optim.Adam(model.parameters(), lr=LEARNING_RATE)"
   ]
  },
  {
   "cell_type": "markdown",
   "metadata": {
    "id": "mIUfa004BeS2"
   },
   "source": [
    "### **8. Train**"
   ]
  },
  {
   "cell_type": "markdown",
   "metadata": {},
   "source": [
    "\n",
    "#### Function"
   ]
  },
  {
   "cell_type": "code",
   "execution_count": 30,
   "metadata": {
    "colab": {
     "base_uri": "https://localhost:8080/",
     "height": 490
    },
    "id": "8GnlBhY1HiwV",
    "outputId": "05ebe3cf-41fa-469d-fcc0-3f5c7a3cb160"
   },
   "outputs": [],
   "source": [
    "def train(\n",
    "    net, training_data, epochs=NUM_EPOCHS, plot=False, save=False, video=False, tb=False\n",
    "):\n",
    "    # the loss function\n",
    "    loss_fn = nn.MSELoss()\n",
    "    # the optimizer\n",
    "    optimizer = optim.Adam(model.parameters(), lr=LEARNING_RATE)\n",
    "    train_loss = []\n",
    "    noisy_arrays = []  # change to dict\n",
    "    denoised_arrays = []  # change to dict\n",
    "    if tb:\n",
    "        writer = SummaryWriter(f\"runs/{int(time.time())}\")\n",
    "    for epoch in trange(epochs, desc=\"Total \"):\n",
    "        running_loss = 0.0\n",
    "        with tqdm(training_data, unit=\"images\", dynamic_ncols=False) as tepoch:\n",
    "            for i, (name, image) in enumerate(tepoch):\n",
    "                tepoch.set_description(f\"Epoch {epoch + 1}\")\n",
    "\n",
    "                if image.min() < 0 or image.max() > 1.0:\n",
    "                    print(f\"WARNING: {name} has values that are out of bounds\")\n",
    "\n",
    "                # train\n",
    "                image = image.to(device)  # (1, 60, 412)\n",
    "                outputs = net(image)  # (1, 60, 412)\n",
    "                loss = loss_fn(outputs, image)\n",
    "                optimizer.zero_grad()\n",
    "                loss.backward()  # backpropagation\n",
    "                optimizer.step()  # update the parameters\n",
    "\n",
    "                if plot or video:\n",
    "                    compare_plot(\n",
    "                        image.cpu().data,\n",
    "                        outputs.cpu().data,\n",
    "                        name,\n",
    "                        f\"output (loss={loss})\",\n",
    "                        video=video,\n",
    "                    )\n",
    "\n",
    "                # tensorboard logging\n",
    "                if tb:\n",
    "                    global_step = epoch * len(training_data) + i\n",
    "                    writer.add_scalar(\"training/loss\", loss.item(), global_step)\n",
    "                    for p_name, param in model.named_parameters():\n",
    "                        writer.add_histogram(\n",
    "                            f\"weights/{p_name}\", param.data, global_step\n",
    "                        )\n",
    "                        if param.requires_grad:\n",
    "                            writer.add_histogram(\n",
    "                                f\"gradients/{p_name}.grad\", param.grad, global_step\n",
    "                            )\n",
    "\n",
    "                running_loss += loss.item()\n",
    "                tepoch.set_postfix(loss=f\"{loss:.02f}\")\n",
    "\n",
    "            loss = running_loss / len(training_data)\n",
    "            train_loss.append(loss)\n",
    "\n",
    "            if save:\n",
    "                noisy_arrays.append((name, image.cpu().data))\n",
    "                denoised_arrays.append((name, outputs.cpu().data))\n",
    "\n",
    "    # save images as arrays for later viewing\n",
    "    noisy_file = f\"noisy-{int(time.time())}\"\n",
    "    denoised_file = f\"denoised-{int(time.time())}\"\n",
    "    if save:\n",
    "        np.savez(\n",
    "            os.path.join(\"data\", noisy_file),\n",
    "            **{name: arr for name, arr in noisy_arrays},\n",
    "        )\n",
    "        np.savez(\n",
    "            os.path.join(\"data\", denoised_file),\n",
    "            **{name: arr for name, arr in denoised_arrays},\n",
    "        )\n",
    "\n",
    "    if tb:\n",
    "        writer.close()\n",
    "\n",
    "    return train_loss, (noisy_file, denoised_file)"
   ]
  },
  {
   "cell_type": "markdown",
   "metadata": {},
   "source": [
    "#### Run"
   ]
  },
  {
   "cell_type": "code",
   "execution_count": 19,
   "metadata": {},
   "outputs": [
    {
     "data": {
      "application/vnd.jupyter.widget-view+json": {
       "model_id": "355d8d05953a4092bddfa2f00df6b047",
       "version_major": 2,
       "version_minor": 0
      },
      "text/plain": [
       "Total :   0%|          | 0/5 [00:00<?, ?it/s]"
      ]
     },
     "metadata": {},
     "output_type": "display_data"
    },
    {
     "data": {
      "application/vnd.jupyter.widget-view+json": {
       "model_id": "7e079e9929c242709bddce263f8fe79f",
       "version_major": 2,
       "version_minor": 0
      },
      "text/plain": [
       "  0%|          | 0/5616 [00:00<?, ?images/s]"
      ]
     },
     "metadata": {},
     "output_type": "display_data"
    },
    {
     "data": {
      "application/vnd.jupyter.widget-view+json": {
       "model_id": "efea5ecf87164356b89f83f85a3cf8ad",
       "version_major": 2,
       "version_minor": 0
      },
      "text/plain": [
       "  0%|          | 0/5616 [00:00<?, ?images/s]"
      ]
     },
     "metadata": {},
     "output_type": "display_data"
    },
    {
     "ename": "KeyboardInterrupt",
     "evalue": "",
     "output_type": "error",
     "traceback": [
      "\u001b[0;31m---------------------------------------------------------------------------\u001b[0m",
      "\u001b[0;31mKeyboardInterrupt\u001b[0m                         Traceback (most recent call last)",
      "Cell \u001b[0;32mIn[19], line 2\u001b[0m\n\u001b[1;32m      1\u001b[0m initialize_weights(model, \u001b[38;5;241m0.01\u001b[39m, \u001b[38;5;241m0.1\u001b[39m)\n\u001b[0;32m----> 2\u001b[0m train_loss, output_filenames \u001b[38;5;241m=\u001b[39m \u001b[43mtrain\u001b[49m\u001b[43m(\u001b[49m\u001b[43mmodel\u001b[49m\u001b[43m,\u001b[49m\u001b[43m \u001b[49m\u001b[43mtraining_data\u001b[49m\u001b[43m,\u001b[49m\u001b[43m \u001b[49m\u001b[43mepochs\u001b[49m\u001b[38;5;241;43m=\u001b[39;49m\u001b[38;5;241;43m5\u001b[39;49m\u001b[43m)\u001b[49m\n\u001b[1;32m      3\u001b[0m writer\u001b[38;5;241m.\u001b[39mclose()\n",
      "Cell \u001b[0;32mIn[18], line 34\u001b[0m, in \u001b[0;36mtrain\u001b[0;34m(net, training_data, epochs, plot, save, video)\u001b[0m\n\u001b[1;32m     32\u001b[0m writer\u001b[38;5;241m.\u001b[39madd_scalar(\u001b[38;5;124m\"\u001b[39m\u001b[38;5;124mtraining/loss\u001b[39m\u001b[38;5;124m\"\u001b[39m, loss\u001b[38;5;241m.\u001b[39mitem(), global_step)\n\u001b[1;32m     33\u001b[0m \u001b[38;5;28;01mfor\u001b[39;00m p_name, param \u001b[38;5;129;01min\u001b[39;00m model\u001b[38;5;241m.\u001b[39mnamed_parameters():\n\u001b[0;32m---> 34\u001b[0m     \u001b[43mwriter\u001b[49m\u001b[38;5;241;43m.\u001b[39;49m\u001b[43madd_histogram\u001b[49m\u001b[43m(\u001b[49m\u001b[38;5;124;43mf\u001b[39;49m\u001b[38;5;124;43m\"\u001b[39;49m\u001b[38;5;124;43mweights/\u001b[39;49m\u001b[38;5;132;43;01m{\u001b[39;49;00m\u001b[43mp_name\u001b[49m\u001b[38;5;132;43;01m}\u001b[39;49;00m\u001b[38;5;124;43m\"\u001b[39;49m\u001b[43m,\u001b[49m\u001b[43m \u001b[49m\u001b[43mparam\u001b[49m\u001b[38;5;241;43m.\u001b[39;49m\u001b[43mdata\u001b[49m\u001b[43m,\u001b[49m\u001b[43m \u001b[49m\u001b[43mglobal_step\u001b[49m\u001b[43m)\u001b[49m\n\u001b[1;32m     35\u001b[0m     \u001b[38;5;28;01mif\u001b[39;00m param\u001b[38;5;241m.\u001b[39mrequires_grad:\n\u001b[1;32m     36\u001b[0m         writer\u001b[38;5;241m.\u001b[39madd_histogram(\n\u001b[1;32m     37\u001b[0m             \u001b[38;5;124mf\u001b[39m\u001b[38;5;124m\"\u001b[39m\u001b[38;5;124mgradients/\u001b[39m\u001b[38;5;132;01m{\u001b[39;00mp_name\u001b[38;5;132;01m}\u001b[39;00m\u001b[38;5;124m.grad\u001b[39m\u001b[38;5;124m\"\u001b[39m, param\u001b[38;5;241m.\u001b[39mgrad, global_step\n\u001b[1;32m     38\u001b[0m         )\n",
      "File \u001b[0;32m~/autoencoder/.venv/lib/python3.10/site-packages/torch/utils/tensorboard/writer.py:526\u001b[0m, in \u001b[0;36mSummaryWriter.add_histogram\u001b[0;34m(self, tag, values, global_step, bins, walltime, max_bins)\u001b[0m\n\u001b[1;32m    523\u001b[0m \u001b[38;5;28;01mif\u001b[39;00m \u001b[38;5;28misinstance\u001b[39m(bins, \u001b[38;5;28mstr\u001b[39m) \u001b[38;5;129;01mand\u001b[39;00m bins \u001b[38;5;241m==\u001b[39m \u001b[38;5;124m\"\u001b[39m\u001b[38;5;124mtensorflow\u001b[39m\u001b[38;5;124m\"\u001b[39m:\n\u001b[1;32m    524\u001b[0m     bins \u001b[38;5;241m=\u001b[39m \u001b[38;5;28mself\u001b[39m\u001b[38;5;241m.\u001b[39mdefault_bins\n\u001b[1;32m    525\u001b[0m \u001b[38;5;28mself\u001b[39m\u001b[38;5;241m.\u001b[39m_get_file_writer()\u001b[38;5;241m.\u001b[39madd_summary(\n\u001b[0;32m--> 526\u001b[0m     \u001b[43mhistogram\u001b[49m\u001b[43m(\u001b[49m\u001b[43mtag\u001b[49m\u001b[43m,\u001b[49m\u001b[43m \u001b[49m\u001b[43mvalues\u001b[49m\u001b[43m,\u001b[49m\u001b[43m \u001b[49m\u001b[43mbins\u001b[49m\u001b[43m,\u001b[49m\u001b[43m \u001b[49m\u001b[43mmax_bins\u001b[49m\u001b[38;5;241;43m=\u001b[39;49m\u001b[43mmax_bins\u001b[49m\u001b[43m)\u001b[49m, global_step, walltime\n\u001b[1;32m    527\u001b[0m )\n",
      "File \u001b[0;32m~/autoencoder/.venv/lib/python3.10/site-packages/torch/utils/tensorboard/summary.py:483\u001b[0m, in \u001b[0;36mhistogram\u001b[0;34m(name, values, bins, max_bins)\u001b[0m\n\u001b[1;32m    467\u001b[0m \u001b[38;5;250m\u001b[39m\u001b[38;5;124;03m\"\"\"Output a `Summary` protocol buffer with a histogram.\u001b[39;00m\n\u001b[1;32m    468\u001b[0m \n\u001b[1;32m    469\u001b[0m \u001b[38;5;124;03mThe generated\u001b[39;00m\n\u001b[0;32m   (...)\u001b[0m\n\u001b[1;32m    480\u001b[0m \u001b[38;5;124;03m  buffer.\u001b[39;00m\n\u001b[1;32m    481\u001b[0m \u001b[38;5;124;03m\"\"\"\u001b[39;00m\n\u001b[1;32m    482\u001b[0m values \u001b[38;5;241m=\u001b[39m make_np(values)\n\u001b[0;32m--> 483\u001b[0m hist \u001b[38;5;241m=\u001b[39m \u001b[43mmake_histogram\u001b[49m\u001b[43m(\u001b[49m\u001b[43mvalues\u001b[49m\u001b[38;5;241;43m.\u001b[39;49m\u001b[43mastype\u001b[49m\u001b[43m(\u001b[49m\u001b[38;5;28;43mfloat\u001b[39;49m\u001b[43m)\u001b[49m\u001b[43m,\u001b[49m\u001b[43m \u001b[49m\u001b[43mbins\u001b[49m\u001b[43m,\u001b[49m\u001b[43m \u001b[49m\u001b[43mmax_bins\u001b[49m\u001b[43m)\u001b[49m\n\u001b[1;32m    484\u001b[0m \u001b[38;5;28;01mreturn\u001b[39;00m Summary(value\u001b[38;5;241m=\u001b[39m[Summary\u001b[38;5;241m.\u001b[39mValue(tag\u001b[38;5;241m=\u001b[39mname, histo\u001b[38;5;241m=\u001b[39mhist)])\n",
      "File \u001b[0;32m~/autoencoder/.venv/lib/python3.10/site-packages/torch/utils/tensorboard/summary.py:492\u001b[0m, in \u001b[0;36mmake_histogram\u001b[0;34m(values, bins, max_bins)\u001b[0m\n\u001b[1;32m    490\u001b[0m     \u001b[38;5;28;01mraise\u001b[39;00m \u001b[38;5;167;01mValueError\u001b[39;00m(\u001b[38;5;124m\"\u001b[39m\u001b[38;5;124mThe input has no element.\u001b[39m\u001b[38;5;124m\"\u001b[39m)\n\u001b[1;32m    491\u001b[0m values \u001b[38;5;241m=\u001b[39m values\u001b[38;5;241m.\u001b[39mreshape(\u001b[38;5;241m-\u001b[39m\u001b[38;5;241m1\u001b[39m)\n\u001b[0;32m--> 492\u001b[0m counts, limits \u001b[38;5;241m=\u001b[39m \u001b[43mnp\u001b[49m\u001b[38;5;241;43m.\u001b[39;49m\u001b[43mhistogram\u001b[49m\u001b[43m(\u001b[49m\u001b[43mvalues\u001b[49m\u001b[43m,\u001b[49m\u001b[43m \u001b[49m\u001b[43mbins\u001b[49m\u001b[38;5;241;43m=\u001b[39;49m\u001b[43mbins\u001b[49m\u001b[43m)\u001b[49m\n\u001b[1;32m    493\u001b[0m num_bins \u001b[38;5;241m=\u001b[39m \u001b[38;5;28mlen\u001b[39m(counts)\n\u001b[1;32m    494\u001b[0m \u001b[38;5;28;01mif\u001b[39;00m max_bins \u001b[38;5;129;01mis\u001b[39;00m \u001b[38;5;129;01mnot\u001b[39;00m \u001b[38;5;28;01mNone\u001b[39;00m \u001b[38;5;129;01mand\u001b[39;00m num_bins \u001b[38;5;241m>\u001b[39m max_bins:\n",
      "File \u001b[0;32m~/autoencoder/.venv/lib/python3.10/site-packages/numpy/lib/histograms.py:868\u001b[0m, in \u001b[0;36mhistogram\u001b[0;34m(a, bins, range, density, weights)\u001b[0m\n\u001b[1;32m    866\u001b[0m     \u001b[38;5;28;01mfor\u001b[39;00m i \u001b[38;5;129;01min\u001b[39;00m _range(\u001b[38;5;241m0\u001b[39m, \u001b[38;5;28mlen\u001b[39m(a), BLOCK):\n\u001b[1;32m    867\u001b[0m         sa \u001b[38;5;241m=\u001b[39m np\u001b[38;5;241m.\u001b[39msort(a[i:i\u001b[38;5;241m+\u001b[39mBLOCK])\n\u001b[0;32m--> 868\u001b[0m         cum_n \u001b[38;5;241m+\u001b[39m\u001b[38;5;241m=\u001b[39m \u001b[43m_search_sorted_inclusive\u001b[49m\u001b[43m(\u001b[49m\u001b[43msa\u001b[49m\u001b[43m,\u001b[49m\u001b[43m \u001b[49m\u001b[43mbin_edges\u001b[49m\u001b[43m)\u001b[49m\n\u001b[1;32m    869\u001b[0m \u001b[38;5;28;01melse\u001b[39;00m:\n\u001b[1;32m    870\u001b[0m     zero \u001b[38;5;241m=\u001b[39m np\u001b[38;5;241m.\u001b[39mzeros(\u001b[38;5;241m1\u001b[39m, dtype\u001b[38;5;241m=\u001b[39mntype)\n",
      "File \u001b[0;32m~/autoencoder/.venv/lib/python3.10/site-packages/numpy/lib/histograms.py:461\u001b[0m, in \u001b[0;36m_search_sorted_inclusive\u001b[0;34m(a, v)\u001b[0m\n\u001b[1;32m    454\u001b[0m \u001b[38;5;28;01mdef\u001b[39;00m \u001b[38;5;21m_search_sorted_inclusive\u001b[39m(a, v):\n\u001b[1;32m    455\u001b[0m \u001b[38;5;250m    \u001b[39m\u001b[38;5;124;03m\"\"\"\u001b[39;00m\n\u001b[1;32m    456\u001b[0m \u001b[38;5;124;03m    Like `searchsorted`, but where the last item in `v` is placed on the right.\u001b[39;00m\n\u001b[1;32m    457\u001b[0m \n\u001b[1;32m    458\u001b[0m \u001b[38;5;124;03m    In the context of a histogram, this makes the last bin edge inclusive\u001b[39;00m\n\u001b[1;32m    459\u001b[0m \u001b[38;5;124;03m    \"\"\"\u001b[39;00m\n\u001b[1;32m    460\u001b[0m     \u001b[38;5;28;01mreturn\u001b[39;00m np\u001b[38;5;241m.\u001b[39mconcatenate((\n\u001b[0;32m--> 461\u001b[0m         \u001b[43ma\u001b[49m\u001b[38;5;241;43m.\u001b[39;49m\u001b[43msearchsorted\u001b[49m\u001b[43m(\u001b[49m\u001b[43mv\u001b[49m\u001b[43m[\u001b[49m\u001b[43m:\u001b[49m\u001b[38;5;241;43m-\u001b[39;49m\u001b[38;5;241;43m1\u001b[39;49m\u001b[43m]\u001b[49m\u001b[43m,\u001b[49m\u001b[43m \u001b[49m\u001b[38;5;124;43m'\u001b[39;49m\u001b[38;5;124;43mleft\u001b[39;49m\u001b[38;5;124;43m'\u001b[39;49m\u001b[43m)\u001b[49m,\n\u001b[1;32m    462\u001b[0m         a\u001b[38;5;241m.\u001b[39msearchsorted(v[\u001b[38;5;241m-\u001b[39m\u001b[38;5;241m1\u001b[39m:], \u001b[38;5;124m'\u001b[39m\u001b[38;5;124mright\u001b[39m\u001b[38;5;124m'\u001b[39m)\n\u001b[1;32m    463\u001b[0m     ))\n",
      "\u001b[0;31mKeyboardInterrupt\u001b[0m: "
     ]
    }
   ],
   "source": [
    "initialize_weights(model, 0.01, 0.1)\n",
    "train_loss, output_filenames = train(model, training_data, epochs=1)"
   ]
  },
  {
   "cell_type": "markdown",
   "metadata": {},
   "source": [
    "#### Plot Loss"
   ]
  },
  {
   "cell_type": "code",
   "execution_count": null,
   "metadata": {},
   "outputs": [],
   "source": [
    "plt.figure()\n",
    "plt.plot(train_loss)\n",
    "plt.title(\"Train Loss\")\n",
    "plt.xlabel(\"Epochs\")\n",
    "plt.ylabel(\"Loss\")\n",
    "plt.show()"
   ]
  },
  {
   "cell_type": "markdown",
   "metadata": {},
   "source": [
    "#### Test Reconstruction"
   ]
  },
  {
   "cell_type": "code",
   "execution_count": 20,
   "metadata": {},
   "outputs": [
    {
     "data": {
      "image/png": "[encoded data removed]",
      "text/plain": [
       "<Figure size 1000x500 with 2 Axes>"
      ]
     },
     "metadata": {},
     "output_type": "display_data"
    }
   ],
   "source": [
    "img_noisy = training_data[0][1] + NOISE_FACTOR * torch.randn(training_data[0][1].shape)\n",
    "img_noisy = img_noisy.to(device)\n",
    "outputs = model(img_noisy)\n",
    "\n",
    "compare_plot(img_noisy.cpu().data, outputs.cpu().data, training_data[0][0])"
   ]
  },
  {
   "cell_type": "markdown",
   "metadata": {},
   "source": [
    "### Overfit Test"
   ]
  },
  {
   "cell_type": "code",
   "execution_count": 31,
   "metadata": {},
   "outputs": [
    {
     "data": {
      "application/vnd.jupyter.widget-view+json": {
       "model_id": "9bc4ad8643b94e31b2971e868ced75ef",
       "version_major": 2,
       "version_minor": 0
      },
      "text/plain": [
       "Total :   0%|          | 0/1 [00:00<?, ?it/s]"
      ]
     },
     "metadata": {},
     "output_type": "display_data"
    },
    {
     "data": {
      "application/vnd.jupyter.widget-view+json": {
       "model_id": "ea819dca53f544faaabe9f77d7095cb9",
       "version_major": 2,
       "version_minor": 0
      },
      "text/plain": [
       "  0%|          | 0/1000 [00:00<?, ?images/s]"
      ]
     },
     "metadata": {},
     "output_type": "display_data"
    },
    {
     "data": {
      "text/plain": [
       "([0.9835118651390076], ('noisy-1708715069', 'denoised-1708715069'))"
      ]
     },
     "execution_count": 31,
     "metadata": {},
     "output_type": "execute_result"
    }
   ],
   "source": [
    "si_tensor = [\n",
    "    (k, torch.from_numpy(np.expand_dims(format_image(v, True), 0)).to(torch.float32))\n",
    "    for k, v in list(clean_images.items())\n",
    "]\n",
    "random.shuffle(si_tensor)\n",
    "overfit_set = [si_tensor[0]] * 100\n",
    "\n",
    "model = AutoEncoder().to(device)\n",
    "initialize_weights(model, 0.01, 0.1)\n",
    "train(model, overfit_set, epochs=1, tb=True)"
   ]
  },
  {
   "cell_type": "code",
   "execution_count": 32,
   "metadata": {},
   "outputs": [
    {
     "data": {
      "image/png": "[encoded data removed]",
      "text/plain": [
       "<Figure size 1000x500 with 2 Axes>"
      ]
     },
     "metadata": {},
     "output_type": "display_data"
    }
   ],
   "source": [
    "img_noisy = overfit_set[0][1] + NOISE_FACTOR * torch.randn(overfit_set[0][1].shape)\n",
    "img_noisy = img_noisy.to(device)\n",
    "outputs = model(img_noisy)\n",
    "\n",
    "compare_plot(img_noisy.cpu().data, outputs.cpu().data, overfit_set[0][0])"
   ]
  },
  {
   "cell_type": "code",
   "execution_count": 23,
   "metadata": {},
   "outputs": [],
   "source": [
    "import cv2\n",
    "import shutil\n",
    "\n",
    "image_folder = \"video\"\n",
    "video_name = \"ugh.mp4\"\n",
    "fps = 20\n",
    "\n",
    "images = [img for img in os.listdir(image_folder) if img.endswith(\".png\")]\n",
    "images.sort()  # Sort the images by name\n",
    "\n",
    "# Determine the width and height from the first image\n",
    "frame = cv2.imread(os.path.join(image_folder, images[0]))\n",
    "height, width, layers = frame.shape\n",
    "\n",
    "video = cv2.VideoWriter(\n",
    "    video_name, cv2.VideoWriter_fourcc(*\"mp4v\"), fps, (width, height)\n",
    ")\n",
    "\n",
    "for image in images:\n",
    "    video.write(cv2.imread(os.path.join(image_folder, image)))\n",
    "\n",
    "cv2.destroyAllWindows()\n",
    "video.release()\n",
    "shutil.rmtree(image_folder)"
   ]
  }
 ],
 "metadata": {
  "accelerator": "GPU",
  "colab": {
   "gpuType": "T4",
   "provenance": []
  },
  "interpreter": {
   "hash": "884a8f81666a19c0851426c83cd6eaa7b212468ad852fb3caa21591c98d4369f"
  },
  "kernelspec": {
   "display_name": "Python 3 (ipykernel)",
   "language": "python",
   "name": "python3"
  },
  "language_info": {
   "codemirror_mode": {
    "name": "ipython",
    "version": 3
   },
   "file_extension": ".py",
   "mimetype": "text/x-python",
   "name": "python",
   "nbconvert_exporter": "python",
   "pygments_lexer": "ipython3",
   "version": "3.10.13"
  }
 },
 "nbformat": 4,
 "nbformat_minor": 4
}
