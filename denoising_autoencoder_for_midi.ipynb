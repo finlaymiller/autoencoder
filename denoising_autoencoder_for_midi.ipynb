{
 "cells": [
  {
   "cell_type": "markdown",
   "metadata": {},
   "source": [
    "# DENOISING AUTOENCODER FOR MIDI"
   ]
  },
  {
   "cell_type": "markdown",
   "metadata": {
    "id": "EnjYUqvzBeSz"
   },
   "source": [
    "### **1. Load Libraries**\n",
    "\n",
    "The imported modules include:\n",
    "\n",
    "* `torchvision`: contains many popular computer vision datasets, deep neural network architectures, and image processing modules. We will use this to download the CIFAR10 dataset.\n",
    "* `torch.nn`: contains the deep learning neural network layers such as `Linear()`, and `Conv2d()`.\n",
    "* `transforms`: will help in defining the image transforms and normalizations.\n",
    "* `optim`: contains the deep learning optimizer classes such as `MSELoss()` and many others as well.\n",
    "* `functional`: we will use this for activation functions such as ReLU.\n",
    "* `DataLoader`: eases the task of making iterable training and testing sets."
   ]
  },
  {
   "cell_type": "code",
   "execution_count": 1,
   "metadata": {
    "id": "pCnwb04BBeSz"
   },
   "outputs": [],
   "source": [
    "# torch\n",
    "import torch\n",
    "import torch.nn as nn\n",
    "import torch.optim as optim\n",
    "import torch.nn.functional as F\n",
    "\n",
    "# torchvision\n",
    "from torchinfo import summary\n",
    "from torchvision.utils import save_image\n",
    "\n",
    "# other\n",
    "import os\n",
    "import time\n",
    "import random\n",
    "import numpy as np\n",
    "from pathlib import Path\n",
    "import matplotlib.pyplot as plt\n",
    "from tqdm.notebook import trange, tqdm"
   ]
  },
  {
   "cell_type": "markdown",
   "metadata": {},
   "source": [
    "#### Dark theme"
   ]
  },
  {
   "cell_type": "code",
   "execution_count": 2,
   "metadata": {},
   "outputs": [],
   "source": [
    "plt.style.use(\"dark_background\")"
   ]
  },
  {
   "cell_type": "code",
   "execution_count": 3,
   "metadata": {},
   "outputs": [
    {
     "data": {
      "text/html": [
       "<style>\n",
       ".cell-output-ipywidget-background {\n",
       "    background-color: transparent !important;\n",
       "}\n",
       ":root {\n",
       "    --jp-widgets-color: var(--vscode-editor-foreground);\n",
       "    --jp-widgets-font-size: var(--vscode-editor-font-size);\n",
       "}  \n",
       "</style>\n"
      ],
      "text/plain": [
       "<IPython.core.display.HTML object>"
      ]
     },
     "metadata": {},
     "output_type": "display_data"
    }
   ],
   "source": [
    "%%html\n",
    "<style>\n",
    ".cell-output-ipywidget-background {\n",
    "    background-color: transparent !important;\n",
    "}\n",
    ":root {\n",
    "    --jp-widgets-color: var(--vscode-editor-foreground);\n",
    "    --jp-widgets-font-size: var(--vscode-editor-font-size);\n",
    "}  \n",
    "</style>"
   ]
  },
  {
   "cell_type": "markdown",
   "metadata": {},
   "source": [
    "%%html\n",
    "<style>\n",
    ".cell-output-ipywidget-background {\n",
    "    background-color: transparent !important;\n",
    "}\n",
    ":root {\n",
    "    --jp-widgets-color: var(--vscode-editor-foreground);\n",
    "    --jp-widgets-font-size: var(--vscode-editor-font-size);\n",
    "}  \n",
    "</style>"
   ]
  },
  {
   "cell_type": "markdown",
   "metadata": {
    "id": "PUu40u7OBeS0"
   },
   "source": [
    "### **2. Define Constants**"
   ]
  },
  {
   "cell_type": "code",
   "execution_count": 4,
   "metadata": {
    "id": "0kqgrIS7BeS0"
   },
   "outputs": [
    {
     "name": "stdout",
     "output_type": "stream",
     "text": [
      "Using device: cuda:0\n"
     ]
    }
   ],
   "source": [
    "# constants\n",
    "NUM_EPOCHS = 2\n",
    "LEARNING_RATE = 0.001\n",
    "BATCH_SIZE = 32\n",
    "NOISE_FACTOR = 0.001\n",
    "NUM_PERMUTATIONS = 3\n",
    "\n",
    "device = torch.device(\"cuda:0\" if torch.cuda.is_available() else \"cpu\")\n",
    "print(f\"Using device: {device}\")"
   ]
  },
  {
   "cell_type": "markdown",
   "metadata": {
    "id": "Q4Xhh5FSBeS1"
   },
   "source": [
    "### **3. Helper Functions**"
   ]
  },
  {
   "cell_type": "code",
   "execution_count": 31,
   "metadata": {},
   "outputs": [],
   "source": [
    "def compare_plot(a1, a2, t1=\"noisy\", t2=\"denoised\", set_axis=\"off\"):\n",
    "    plt.figure(figsize=(10, 5))\n",
    "    plt.subplot(2, 1, 1)\n",
    "    plt.title(t1)\n",
    "    plt.imshow(\n",
    "        np.squeeze(a1),\n",
    "        aspect=\"auto\",\n",
    "        origin=\"lower\",\n",
    "        cmap=\"magma\",\n",
    "        interpolation=\"nearest\",\n",
    "    )\n",
    "    plt.axis(set_axis)\n",
    "    plt.subplot(2, 1, 2)\n",
    "    plt.title(t2)\n",
    "    plt.imshow(\n",
    "        np.squeeze(a2),\n",
    "        aspect=\"auto\",\n",
    "        origin=\"lower\",\n",
    "        cmap=\"magma\",\n",
    "        interpolation=\"nearest\",\n",
    "    )\n",
    "    plt.axis(set_axis)\n",
    "    plt.show()"
   ]
  },
  {
   "cell_type": "code",
   "execution_count": 6,
   "metadata": {},
   "outputs": [],
   "source": [
    "def count_nested_items(nested_dict):\n",
    "    \"\"\"\n",
    "    Counts the total number of items in a 1-level deep nested dictionary.\n",
    "\n",
    "    Parameters:\n",
    "    nested_dict (dict): A dictionary with nested dictionaries as values.\n",
    "\n",
    "    Returns:\n",
    "    int: Total number of items in the nested dictionaries.\n",
    "\n",
    "    chatGPT\n",
    "    \"\"\"\n",
    "    total_items = 0\n",
    "    # Iterate through each value in the top-level dictionary\n",
    "    for value in nested_dict.values():\n",
    "        # Check if the value is a dictionary itself\n",
    "        if isinstance(value, list):\n",
    "            # Add the number of items in the nested dictionary to the total\n",
    "            total_items += len(value)\n",
    "    return total_items"
   ]
  },
  {
   "cell_type": "markdown",
   "metadata": {
    "id": "QmmU_NufBeS1"
   },
   "source": [
    "### **4. Load Data**"
   ]
  },
  {
   "cell_type": "code",
   "execution_count": 7,
   "metadata": {},
   "outputs": [],
   "source": [
    "clean_images = np.load(\"all_loops.npz\")"
   ]
  },
  {
   "cell_type": "code",
   "execution_count": 8,
   "metadata": {},
   "outputs": [],
   "source": [
    "def shift_image_vertically(name, array, num_iterations):\n",
    "    shifted_images = []\n",
    "\n",
    "    def find_non_zero_bounds(arr):\n",
    "        # Find the first and last row index with a non-zero element\n",
    "        rows_with_non_zero = np.where(arr.any(axis=1))[0]\n",
    "        if len(rows_with_non_zero) == 0:\n",
    "            return (0, arr.shape[0] - 1)  # Handle case with no non-zero elements\n",
    "        return rows_with_non_zero[0], rows_with_non_zero[-1]\n",
    "\n",
    "    def shift_array(arr, up=0, down=0):\n",
    "        # Shift array vertically\n",
    "        if up > 0:\n",
    "            arr = np.roll(arr, -up, axis=0)\n",
    "            arr[-up:] = 0\n",
    "        elif down > 0:\n",
    "            arr = np.roll(arr, down, axis=0)\n",
    "            arr[:down] = 0\n",
    "        return arr\n",
    "\n",
    "    highest, lowest = find_non_zero_bounds(array)\n",
    "    maximum_up = highest\n",
    "    maximum_down = array.shape[0] - lowest - 1\n",
    "\n",
    "    for _ in range(num_iterations):\n",
    "        # Shift up and then down, decreasing the shift amount in each iteration\n",
    "        for i in range(maximum_up, 0, -1):\n",
    "            new_key = f\"{Path(name).stem}_u{i:02d}\"\n",
    "            shifted_images.append((new_key, np.copy(shift_array(array, up=i))))\n",
    "        for i in range(maximum_down, 0, -1):\n",
    "            new_key = f\"{Path(name).stem}_d{i:02d}\"\n",
    "            shifted_images.append((new_key, np.copy(shift_array(array, down=i))))\n",
    "\n",
    "    random.shuffle(shifted_images)\n",
    "\n",
    "    return shifted_images[:num_iterations]"
   ]
  },
  {
   "cell_type": "markdown",
   "metadata": {
    "id": "SY5xHsFuBeS0"
   },
   "source": [
    "### **5. Prepare the Data**"
   ]
  },
  {
   "cell_type": "code",
   "execution_count": 9,
   "metadata": {
    "id": "XVfTQ91T0NXa"
   },
   "outputs": [],
   "source": [
    "def format_image(image):\n",
    "    image = torch.from_numpy(np.expand_dims(image, 0)).to(torch.float32)\n",
    "    if torch.any(image > 1.0):\n",
    "        image = image / image.max()\n",
    "    image = F.pad(input=image, pad=(0, 12, 1, 1), mode=\"constant\", value=0.0)\n",
    "\n",
    "    return image"
   ]
  },
  {
   "cell_type": "code",
   "execution_count": 10,
   "metadata": {},
   "outputs": [],
   "source": [
    "def augment_data(clean_images, num_permutations=NUM_PERMUTATIONS):\n",
    "    \"\"\"Augments a set of passed-in images by a factor of 2*num_permutations\"\"\"\n",
    "    shifted_images = {}\n",
    "    noisy_images = []\n",
    "\n",
    "    for name, image in tqdm(\n",
    "        list(clean_images.items()), unit=\"images\", dynamic_ncols=True\n",
    "    ):\n",
    "        time_factor = image[:, 0]  # save time factor\n",
    "        image = np.delete(image, 0, axis=1)  # remove it from the image though\n",
    "        # vertical shift images\n",
    "        shifted_images[name] = shift_image_vertically(name, image, num_permutations)\n",
    "\n",
    "        for si in shifted_images[name]:\n",
    "            new_key, shifted_image = si\n",
    "            for _ in range(num_permutations):\n",
    "                noisy_image = shifted_image / np.max(shifted_image)\n",
    "\n",
    "                # corrupt image\n",
    "                noisy_image = torch.from_numpy(\n",
    "                    noisy_image\n",
    "                ) + NOISE_FACTOR * torch.randn(noisy_image.shape)\n",
    "\n",
    "                # reformat\n",
    "                noisy_image = format_image(noisy_image)\n",
    "\n",
    "                noisy_images.append([new_key, noisy_image])\n",
    "\n",
    "    random.shuffle(noisy_images)\n",
    "\n",
    "    return shifted_images, noisy_images"
   ]
  },
  {
   "cell_type": "markdown",
   "metadata": {},
   "source": [
    "#### Data augmentation\n",
    "**WARNING: This may use a ton of memory**"
   ]
  },
  {
   "cell_type": "code",
   "execution_count": 11,
   "metadata": {},
   "outputs": [
    {
     "data": {
      "application/vnd.jupyter.widget-view+json": {
       "model_id": "c9c8ae5c4c7442fb9ebb2b00f5f0f95f",
       "version_major": 2,
       "version_minor": 0
      },
      "text/plain": [
       "  0%|          | 0/1404 [00:00<?, ?images/s]"
      ]
     },
     "metadata": {},
     "output_type": "display_data"
    },
    {
     "name": "stdout",
     "output_type": "stream",
     "text": [
      "used 1404 clean images to generate 4212 vshifted images\n",
      "used 4212 shifted images to generate 12636 noisy images of shape torch.Size([1, 60, 412])\n"
     ]
    }
   ],
   "source": [
    "shifted_images, noisy_images = augment_data(clean_images)\n",
    "\n",
    "# output_file = f\"augmented_data_{int(time.time())}\"\n",
    "# np.savez_compressed(\n",
    "#     os.path.join(\"data\", output_file),\n",
    "#     **{name: arr for name, arr in noisy_images},\n",
    "# )\n",
    "print(\n",
    "    f\"used {len(list(clean_images.keys()))} clean images to generate {count_nested_items(shifted_images)} vshifted images\"\n",
    ")\n",
    "print(\n",
    "    f\"used {count_nested_items(shifted_images)} shifted images to generate {len(noisy_images)} noisy images of shape {noisy_images[0][1].size()}\"\n",
    ")"
   ]
  },
  {
   "cell_type": "markdown",
   "metadata": {},
   "source": [
    "#### View Results"
   ]
  },
  {
   "cell_type": "code",
   "execution_count": 12,
   "metadata": {},
   "outputs": [
    {
     "data": {
      "image/png": "[encoded data removed]",
      "text/plain": [
       "<Figure size 800x300 with 2 Axes>"
      ]
     },
     "metadata": {},
     "output_type": "display_data"
    },
    {
     "data": {
      "image/png": "[encoded data removed]",
      "text/plain": [
       "<Figure size 800x300 with 2 Axes>"
      ]
     },
     "metadata": {},
     "output_type": "display_data"
    }
   ],
   "source": [
    "for data in noisy_images[:2]:\n",
    "    k, v = data\n",
    "    compare_plot(\n",
    "        clean_images[k[: k.rfind(\"_\")] + \".mid\"], v, k, f\"noise ({NOISE_FACTOR})\"\n",
    "    )"
   ]
  },
  {
   "cell_type": "markdown",
   "metadata": {
    "id": "Yl-Xy9STBeS1"
   },
   "source": [
    "### **6. Define the AutoEncoder**"
   ]
  },
  {
   "cell_type": "code",
   "execution_count": 13,
   "metadata": {
    "id": "aK6hMJrjBeS2"
   },
   "outputs": [],
   "source": [
    "class AutoEncoder(nn.Module):\n",
    "    def __init__(self):\n",
    "        super(AutoEncoder, self).__init__()\n",
    "\n",
    "        # Encoder layers\n",
    "        self.enc1 = nn.Conv2d(1, 64, kernel_size=3, padding=1)\n",
    "        self.enc2 = nn.Conv2d(64, 32, kernel_size=3, padding=1)\n",
    "        self.enc3 = nn.Conv2d(32, 16, kernel_size=3, padding=1)\n",
    "        self.enc4 = nn.Conv2d(16, 8, kernel_size=3, padding=1)\n",
    "        self.pool = nn.MaxPool2d(2, 2)\n",
    "\n",
    "        # Decoder layers\n",
    "        self.dec1 = nn.ConvTranspose2d(8, 8, kernel_size=3, stride=2)\n",
    "        self.dec2 = nn.ConvTranspose2d(8, 16, kernel_size=3, stride=2)\n",
    "        self.dec3 = nn.ConvTranspose2d(16, 32, kernel_size=2, stride=2)\n",
    "        self.dec4 = nn.ConvTranspose2d(32, 64, kernel_size=2, stride=2)\n",
    "        self.out = nn.Conv2d(64, 1, kernel_size=3, padding=1)\n",
    "\n",
    "    def forward(self, x):\n",
    "        # Encoder\n",
    "        x = self.pool(F.relu(self.enc1(x)))\n",
    "        x = self.pool(F.relu(self.enc2(x)))\n",
    "        x = self.pool(F.relu(self.enc3(x)))\n",
    "        x = self.pool(F.relu(self.enc4(x)))  # latent space representation\n",
    "\n",
    "        # Decoder\n",
    "        x = F.relu(self.dec1(x))\n",
    "        x = F.relu(self.dec2(x))\n",
    "        x = F.relu(self.dec3(x))\n",
    "        x = F.relu(self.dec4(x))\n",
    "        x = torch.sigmoid(self.out(x))\n",
    "\n",
    "        return x\n",
    "\n",
    "\n",
    "model = AutoEncoder().to(device)"
   ]
  },
  {
   "cell_type": "code",
   "execution_count": 14,
   "metadata": {
    "colab": {
     "base_uri": "https://localhost:8080/"
    },
    "id": "nVMS7OsyBeS2",
    "outputId": "305cb08f-e595-4539-cb3c-47327bfbb0d7"
   },
   "outputs": [
    {
     "name": "stdout",
     "output_type": "stream",
     "text": [
      "AutoEncoder(\n",
      "  (enc1): Conv2d(1, 64, kernel_size=(3, 3), stride=(1, 1), padding=(1, 1))\n",
      "  (enc2): Conv2d(64, 32, kernel_size=(3, 3), stride=(1, 1), padding=(1, 1))\n",
      "  (enc3): Conv2d(32, 16, kernel_size=(3, 3), stride=(1, 1), padding=(1, 1))\n",
      "  (enc4): Conv2d(16, 8, kernel_size=(3, 3), stride=(1, 1), padding=(1, 1))\n",
      "  (pool): MaxPool2d(kernel_size=2, stride=2, padding=0, dilation=1, ceil_mode=False)\n",
      "  (dec1): ConvTranspose2d(8, 8, kernel_size=(3, 3), stride=(2, 2))\n",
      "  (dec2): ConvTranspose2d(8, 16, kernel_size=(3, 3), stride=(2, 2))\n",
      "  (dec3): ConvTranspose2d(16, 32, kernel_size=(2, 2), stride=(2, 2))\n",
      "  (dec4): ConvTranspose2d(32, 64, kernel_size=(2, 2), stride=(2, 2))\n",
      "  (out): Conv2d(64, 1, kernel_size=(3, 3), stride=(1, 1), padding=(1, 1))\n",
      ")\n"
     ]
    }
   ],
   "source": [
    "print(model)"
   ]
  },
  {
   "cell_type": "code",
   "execution_count": 15,
   "metadata": {
    "colab": {
     "base_uri": "https://localhost:8080/"
    },
    "id": "uQEvArOFBeS2",
    "outputId": "424eb883-28e5-4bd0-aa5b-d658ed2e35e4"
   },
   "outputs": [
    {
     "data": {
      "text/plain": [
       "==========================================================================================\n",
       "Layer (type:depth-idx)                   Output Shape              Param #\n",
       "==========================================================================================\n",
       "AutoEncoder                              [1, 60, 412]              --\n",
       "├─Conv2d: 1-1                            [64, 58, 400]             640\n",
       "├─MaxPool2d: 1-2                         [64, 29, 200]             --\n",
       "├─Conv2d: 1-3                            [32, 29, 200]             18,464\n",
       "├─MaxPool2d: 1-4                         [32, 14, 100]             --\n",
       "├─Conv2d: 1-5                            [16, 14, 100]             4,624\n",
       "├─MaxPool2d: 1-6                         [16, 7, 50]               --\n",
       "├─Conv2d: 1-7                            [8, 7, 50]                1,160\n",
       "├─MaxPool2d: 1-8                         [8, 3, 25]                --\n",
       "├─ConvTranspose2d: 1-9                   [8, 7, 51]                584\n",
       "├─ConvTranspose2d: 1-10                  [16, 15, 103]             1,168\n",
       "├─ConvTranspose2d: 1-11                  [32, 30, 206]             2,080\n",
       "├─ConvTranspose2d: 1-12                  [64, 60, 412]             8,256\n",
       "├─Conv2d: 1-13                           [1, 60, 412]              577\n",
       "==========================================================================================\n",
       "Total params: 37,553\n",
       "Trainable params: 37,553\n",
       "Non-trainable params: 0\n",
       "Total mult-adds (M): 376.22\n",
       "==========================================================================================\n",
       "Input size (MB): 0.09\n",
       "Forward/backward pass size (MB): 28.22\n",
       "Params size (MB): 0.15\n",
       "Estimated Total Size (MB): 28.46\n",
       "=========================================================================================="
      ]
     },
     "execution_count": 15,
     "metadata": {},
     "output_type": "execute_result"
    }
   ],
   "source": [
    "summary(model, (1, 58, 400))"
   ]
  },
  {
   "cell_type": "markdown",
   "metadata": {
    "id": "YjjIFa2yBeS2"
   },
   "source": [
    "### **7. Optimizer and Loss Function**"
   ]
  },
  {
   "cell_type": "code",
   "execution_count": 16,
   "metadata": {
    "id": "oiUmiKepBeS2"
   },
   "outputs": [],
   "source": [
    "# the loss function\n",
    "loss_fn = nn.MSELoss()\n",
    "# the optimizer\n",
    "optimizer = optim.Adam(model.parameters(), lr=LEARNING_RATE)"
   ]
  },
  {
   "cell_type": "markdown",
   "metadata": {
    "id": "mIUfa004BeS2"
   },
   "source": [
    "### **8. Train**\n",
    "\n",
    "#### Function"
   ]
  },
  {
   "cell_type": "code",
   "execution_count": 19,
   "metadata": {
    "colab": {
     "base_uri": "https://localhost:8080/",
     "height": 490
    },
    "id": "8GnlBhY1HiwV",
    "outputId": "05ebe3cf-41fa-469d-fcc0-3f5c7a3cb160"
   },
   "outputs": [],
   "source": [
    "def train(net, noisy_images, epochs=NUM_EPOCHS, plot=False, save=False):\n",
    "    train_loss = []\n",
    "    noisy_arrays = []  # change to dict\n",
    "    denoised_arrays = []  # change to dict\n",
    "    for epoch in trange(epochs, desc=\"Total \"):\n",
    "        running_loss = 0.0\n",
    "        with tqdm(noisy_images, unit=\"batch\", dynamic_ncols=False) as tepoch:\n",
    "            for name, image in tepoch:\n",
    "                tepoch.set_description(f\"Epoch {epoch+1}\")\n",
    "\n",
    "                image = image.to(device)  # (1, 60, 412)\n",
    "                optimizer.zero_grad()\n",
    "                outputs = net(image)  # (1, 60, 412)\n",
    "                # loss\n",
    "                loss = loss_fn(outputs, image)\n",
    "                # backpropagation\n",
    "                loss.backward()\n",
    "                # update the parameters\n",
    "                optimizer.step()\n",
    "                running_loss += loss.item()\n",
    "                tepoch.set_postfix(loss=f\"{running_loss:.02f}\")\n",
    "\n",
    "                if plot:\n",
    "                    compare_plot(image.cpu().data, outputs.cpu().data, name)\n",
    "\n",
    "            loss = running_loss / len(noisy_images)\n",
    "            train_loss.append(loss)\n",
    "\n",
    "            noisy_arrays.append((name, image.cpu().data))\n",
    "            denoised_arrays.append((name, outputs.cpu().data))\n",
    "\n",
    "    # save images as arrays for later viewing\n",
    "    noisy_file = f\"noisy-{int(time.time())}\"\n",
    "    denoised_file = f\"denoised-{int(time.time())}\"\n",
    "    if save:\n",
    "        np.savez(\n",
    "            os.path.join(\"data\", noisy_file),\n",
    "            **{name: arr for name, arr in noisy_arrays},\n",
    "        )\n",
    "        np.savez(\n",
    "            os.path.join(\"data\", denoised_file),\n",
    "            **{name: arr for name, arr in denoised_arrays},\n",
    "        )\n",
    "\n",
    "    return train_loss, (noisy_file, denoised_file)"
   ]
  },
  {
   "cell_type": "markdown",
   "metadata": {},
   "source": [
    "#### Run"
   ]
  },
  {
   "cell_type": "code",
   "execution_count": 20,
   "metadata": {},
   "outputs": [
    {
     "data": {
      "application/vnd.jupyter.widget-view+json": {
       "model_id": "81f11a5772a14728a475aa2c251b0a3d",
       "version_major": 2,
       "version_minor": 0
      },
      "text/plain": [
       "  0%|          | 0/2 [00:00<?, ?it/s]"
      ]
     },
     "metadata": {},
     "output_type": "display_data"
    },
    {
     "data": {
      "application/vnd.jupyter.widget-view+json": {
       "model_id": "ad79be8ed8ff4ed39dcc0857f6a6e258",
       "version_major": 2,
       "version_minor": 0
      },
      "text/plain": [
       "  0%|          | 0/12636 [00:00<?, ?batch/s]"
      ]
     },
     "metadata": {},
     "output_type": "display_data"
    },
    {
     "data": {
      "application/vnd.jupyter.widget-view+json": {
       "model_id": "47a1e773c4224e08a080ba08d528ffd8",
       "version_major": 2,
       "version_minor": 0
      },
      "text/plain": [
       "  0%|          | 0/12636 [00:00<?, ?batch/s]"
      ]
     },
     "metadata": {},
     "output_type": "display_data"
    }
   ],
   "source": [
    "train_loss, output_filenames = train(model, noisy_images)"
   ]
  },
  {
   "cell_type": "markdown",
   "metadata": {},
   "source": [
    "#### Plot Loss"
   ]
  },
  {
   "cell_type": "code",
   "execution_count": 21,
   "metadata": {},
   "outputs": [
    {
     "data": {
      "image/png": "[encoded data removed]",
      "text/plain": [
       "<Figure size 640x480 with 1 Axes>"
      ]
     },
     "metadata": {},
     "output_type": "display_data"
    }
   ],
   "source": [
    "plt.figure()\n",
    "plt.plot(train_loss)\n",
    "plt.title(\"Train Loss\")\n",
    "plt.xlabel(\"Epochs\")\n",
    "plt.ylabel(\"Loss\")\n",
    "plt.show()"
   ]
  },
  {
   "cell_type": "markdown",
   "metadata": {},
   "source": [
    "#### Test Reconstruction"
   ]
  },
  {
   "cell_type": "code",
   "execution_count": 32,
   "metadata": {},
   "outputs": [
    {
     "data": {
      "image/png": "[encoded data removed]",
      "text/plain": [
       "<Figure size 1000x500 with 2 Axes>"
      ]
     },
     "metadata": {},
     "output_type": "display_data"
    }
   ],
   "source": [
    "def test_image_reconstruction(net, img):\n",
    "    img_noisy = img + NOISE_FACTOR * torch.randn(img.shape)\n",
    "    img_noisy = img_noisy.to(device)\n",
    "    outputs = net(img_noisy)\n",
    "\n",
    "    compare_plot(img_noisy.cpu().data, outputs.cpu().data)\n",
    "\n",
    "\n",
    "test_image_reconstruction(model, noisy_images[0][1])"
   ]
  },
  {
   "cell_type": "markdown",
   "metadata": {},
   "source": [
    "### Overfit Test"
   ]
  }
 ],
 "metadata": {
  "accelerator": "GPU",
  "colab": {
   "gpuType": "T4",
   "provenance": []
  },
  "interpreter": {
   "hash": "884a8f81666a19c0851426c83cd6eaa7b212468ad852fb3caa21591c98d4369f"
  },
  "kernelspec": {
   "display_name": "Python 3 (ipykernel)",
   "language": "python",
   "name": "python3"
  },
  "language_info": {
   "codemirror_mode": {
    "name": "ipython",
    "version": 3
   },
   "file_extension": ".py",
   "mimetype": "text/x-python",
   "name": "python",
   "nbconvert_exporter": "python",
   "pygments_lexer": "ipython3",
   "version": "3.10.13"
  }
 },
 "nbformat": 4,
 "nbformat_minor": 4
}
